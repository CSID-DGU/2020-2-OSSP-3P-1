{
 "cells": [
  {
   "cell_type": "markdown",
   "metadata": {},
   "source": [
    "# 선형회귀 모델 (statsmodel)"
   ]
  },
  {
   "cell_type": "code",
   "execution_count": 52,
   "metadata": {},
   "outputs": [],
   "source": [
    "import pandas as pd\n",
    "import math\n",
    "import seaborn as sns\n",
    "import matplotlib.pyplot as plt\n",
    "import statsmodels.api as sm\n",
    "from mlxtend.preprocessing import minmax_scaling\n",
    "from sklearn.model_selection import train_test_split\n",
    "from sklearn.metrics import mean_squared_error"
   ]
  },
  {
   "cell_type": "markdown",
   "metadata": {},
   "source": [
    "## 1. 데이터 불러오기"
   ]
  },
  {
   "cell_type": "code",
   "execution_count": 53,
   "metadata": {},
   "outputs": [],
   "source": [
    "df = pd.read_csv('C:/Users/Admin/Desktop/OSSP_final_data_filled_with_knn_with_LABEL.csv', encoding = 'cp949')"
   ]
  },
  {
   "cell_type": "code",
   "execution_count": 54,
   "metadata": {},
   "outputs": [
    {
     "data": {
      "text/html": [
       "<div>\n",
       "<style scoped>\n",
       "    .dataframe tbody tr th:only-of-type {\n",
       "        vertical-align: middle;\n",
       "    }\n",
       "\n",
       "    .dataframe tbody tr th {\n",
       "        vertical-align: top;\n",
       "    }\n",
       "\n",
       "    .dataframe thead th {\n",
       "        text-align: right;\n",
       "    }\n",
       "</style>\n",
       "<table border=\"1\" class=\"dataframe\">\n",
       "  <thead>\n",
       "    <tr style=\"text-align: right;\">\n",
       "      <th></th>\n",
       "      <th>Unnamed: 0</th>\n",
       "      <th>기준_년_코드</th>\n",
       "      <th>기준_분기_코드</th>\n",
       "      <th>상권코드_0</th>\n",
       "      <th>상권코드_1</th>\n",
       "      <th>상권코드_2</th>\n",
       "      <th>상권코드_3</th>\n",
       "      <th>상권코드_4</th>\n",
       "      <th>상권코드_5</th>\n",
       "      <th>상권코드_6</th>\n",
       "      <th>...</th>\n",
       "      <th>상권코드_1495</th>\n",
       "      <th>총_유동인구_수</th>\n",
       "      <th>아파트_단지_수</th>\n",
       "      <th>아파트_평균_면적</th>\n",
       "      <th>아파트_평균_시가</th>\n",
       "      <th>총 상주인구 수</th>\n",
       "      <th>집객시설_수</th>\n",
       "      <th>당월_매출_금액</th>\n",
       "      <th>총_직장_인구_수</th>\n",
       "      <th>폐업률</th>\n",
       "    </tr>\n",
       "  </thead>\n",
       "  <tbody>\n",
       "    <tr>\n",
       "      <th>0</th>\n",
       "      <td>0</td>\n",
       "      <td>2020.0</td>\n",
       "      <td>2.0</td>\n",
       "      <td>0.0</td>\n",
       "      <td>0.0</td>\n",
       "      <td>0.0</td>\n",
       "      <td>0.0</td>\n",
       "      <td>0.0</td>\n",
       "      <td>0.0</td>\n",
       "      <td>0.0</td>\n",
       "      <td>...</td>\n",
       "      <td>1.0</td>\n",
       "      <td>90544.0</td>\n",
       "      <td>14.48</td>\n",
       "      <td>82.273333</td>\n",
       "      <td>2.942853e+08</td>\n",
       "      <td>24.0</td>\n",
       "      <td>52.0</td>\n",
       "      <td>1.671959e+11</td>\n",
       "      <td>15904.0</td>\n",
       "      <td>2.587177</td>\n",
       "    </tr>\n",
       "    <tr>\n",
       "      <th>1</th>\n",
       "      <td>1</td>\n",
       "      <td>2020.0</td>\n",
       "      <td>2.0</td>\n",
       "      <td>0.0</td>\n",
       "      <td>0.0</td>\n",
       "      <td>0.0</td>\n",
       "      <td>0.0</td>\n",
       "      <td>0.0</td>\n",
       "      <td>0.0</td>\n",
       "      <td>0.0</td>\n",
       "      <td>...</td>\n",
       "      <td>0.0</td>\n",
       "      <td>3026454.0</td>\n",
       "      <td>22.00</td>\n",
       "      <td>89.000000</td>\n",
       "      <td>5.273471e+08</td>\n",
       "      <td>8221.0</td>\n",
       "      <td>242.0</td>\n",
       "      <td>1.546181e+11</td>\n",
       "      <td>24375.0</td>\n",
       "      <td>3.026257</td>\n",
       "    </tr>\n",
       "    <tr>\n",
       "      <th>2</th>\n",
       "      <td>2</td>\n",
       "      <td>2020.0</td>\n",
       "      <td>2.0</td>\n",
       "      <td>0.0</td>\n",
       "      <td>0.0</td>\n",
       "      <td>0.0</td>\n",
       "      <td>0.0</td>\n",
       "      <td>0.0</td>\n",
       "      <td>0.0</td>\n",
       "      <td>0.0</td>\n",
       "      <td>...</td>\n",
       "      <td>0.0</td>\n",
       "      <td>4033679.0</td>\n",
       "      <td>5.00</td>\n",
       "      <td>39.000000</td>\n",
       "      <td>1.120979e+08</td>\n",
       "      <td>1924.0</td>\n",
       "      <td>327.0</td>\n",
       "      <td>2.592398e+11</td>\n",
       "      <td>32935.0</td>\n",
       "      <td>2.081362</td>\n",
       "    </tr>\n",
       "    <tr>\n",
       "      <th>3</th>\n",
       "      <td>3</td>\n",
       "      <td>2020.0</td>\n",
       "      <td>2.0</td>\n",
       "      <td>0.0</td>\n",
       "      <td>0.0</td>\n",
       "      <td>0.0</td>\n",
       "      <td>0.0</td>\n",
       "      <td>0.0</td>\n",
       "      <td>0.0</td>\n",
       "      <td>0.0</td>\n",
       "      <td>...</td>\n",
       "      <td>0.0</td>\n",
       "      <td>3262023.0</td>\n",
       "      <td>8.00</td>\n",
       "      <td>53.000000</td>\n",
       "      <td>2.379674e+08</td>\n",
       "      <td>2427.0</td>\n",
       "      <td>165.0</td>\n",
       "      <td>2.466393e+11</td>\n",
       "      <td>6054.0</td>\n",
       "      <td>2.107308</td>\n",
       "    </tr>\n",
       "    <tr>\n",
       "      <th>4</th>\n",
       "      <td>4</td>\n",
       "      <td>2020.0</td>\n",
       "      <td>2.0</td>\n",
       "      <td>0.0</td>\n",
       "      <td>0.0</td>\n",
       "      <td>0.0</td>\n",
       "      <td>0.0</td>\n",
       "      <td>0.0</td>\n",
       "      <td>0.0</td>\n",
       "      <td>0.0</td>\n",
       "      <td>...</td>\n",
       "      <td>0.0</td>\n",
       "      <td>3764785.0</td>\n",
       "      <td>14.48</td>\n",
       "      <td>82.273333</td>\n",
       "      <td>2.942853e+08</td>\n",
       "      <td>1104.0</td>\n",
       "      <td>593.0</td>\n",
       "      <td>3.766214e+11</td>\n",
       "      <td>104830.0</td>\n",
       "      <td>2.163080</td>\n",
       "    </tr>\n",
       "  </tbody>\n",
       "</table>\n",
       "<p>5 rows × 1508 columns</p>\n",
       "</div>"
      ],
      "text/plain": [
       "   Unnamed: 0  기준_년_코드  기준_분기_코드  상권코드_0  상권코드_1  상권코드_2  상권코드_3  상권코드_4  \\\n",
       "0           0   2020.0       2.0     0.0     0.0     0.0     0.0     0.0   \n",
       "1           1   2020.0       2.0     0.0     0.0     0.0     0.0     0.0   \n",
       "2           2   2020.0       2.0     0.0     0.0     0.0     0.0     0.0   \n",
       "3           3   2020.0       2.0     0.0     0.0     0.0     0.0     0.0   \n",
       "4           4   2020.0       2.0     0.0     0.0     0.0     0.0     0.0   \n",
       "\n",
       "   상권코드_5  상권코드_6  ...  상권코드_1495   총_유동인구_수  아파트_단지_수  아파트_평균_면적  \\\n",
       "0     0.0     0.0  ...        1.0    90544.0     14.48  82.273333   \n",
       "1     0.0     0.0  ...        0.0  3026454.0     22.00  89.000000   \n",
       "2     0.0     0.0  ...        0.0  4033679.0      5.00  39.000000   \n",
       "3     0.0     0.0  ...        0.0  3262023.0      8.00  53.000000   \n",
       "4     0.0     0.0  ...        0.0  3764785.0     14.48  82.273333   \n",
       "\n",
       "      아파트_평균_시가  총 상주인구 수  집객시설_수      당월_매출_금액  총_직장_인구_수       폐업률  \n",
       "0  2.942853e+08      24.0    52.0  1.671959e+11    15904.0  2.587177  \n",
       "1  5.273471e+08    8221.0   242.0  1.546181e+11    24375.0  3.026257  \n",
       "2  1.120979e+08    1924.0   327.0  2.592398e+11    32935.0  2.081362  \n",
       "3  2.379674e+08    2427.0   165.0  2.466393e+11     6054.0  2.107308  \n",
       "4  2.942853e+08    1104.0   593.0  3.766214e+11   104830.0  2.163080  \n",
       "\n",
       "[5 rows x 1508 columns]"
      ]
     },
     "execution_count": 54,
     "metadata": {},
     "output_type": "execute_result"
    }
   ],
   "source": [
    "df.head()"
   ]
  },
  {
   "cell_type": "code",
   "execution_count": 55,
   "metadata": {},
   "outputs": [
    {
     "data": {
      "text/plain": [
       "(32912, 1508)"
      ]
     },
     "execution_count": 55,
     "metadata": {},
     "output_type": "execute_result"
    }
   ],
   "source": [
    "df.shape"
   ]
  },
  {
   "cell_type": "code",
   "execution_count": 56,
   "metadata": {},
   "outputs": [
    {
     "data": {
      "text/plain": [
       "Index(['Unnamed: 0', '기준_년_코드', '기준_분기_코드', '상권코드_0', '상권코드_1', '상권코드_2',\n",
       "       '상권코드_3', '상권코드_4', '상권코드_5', '상권코드_6',\n",
       "       ...\n",
       "       '상권코드_1495', '총_유동인구_수', '아파트_단지_수', '아파트_평균_면적', '아파트_평균_시가',\n",
       "       '총 상주인구 수', '집객시설_수', '당월_매출_금액', '총_직장_인구_수', '폐업률'],\n",
       "      dtype='object', length=1508)"
      ]
     },
     "execution_count": 56,
     "metadata": {},
     "output_type": "execute_result"
    }
   ],
   "source": [
    "df.columns"
   ]
  },
  {
   "cell_type": "code",
   "execution_count": 57,
   "metadata": {},
   "outputs": [
    {
     "name": "stdout",
     "output_type": "stream",
     "text": [
      "결측치 수 :  0\n"
     ]
    }
   ],
   "source": [
    "n_of_nulls = df.isnull().sum().sum()\n",
    "print(\"결측치 수 : \", n_of_nulls)"
   ]
  },
  {
   "cell_type": "markdown",
   "metadata": {},
   "source": [
    "## 2. 데이터 전처리\n",
    "### (1) 데이터 정규화"
   ]
  },
  {
   "cell_type": "code",
   "execution_count": 58,
   "metadata": {},
   "outputs": [],
   "source": [
    "# 사용할 column 추출\n",
    "columns = ['총_유동인구_수', '아파트_단지_수', '아파트_평균_면적', '아파트_평균_시가',\n",
    "       '총 상주인구 수', '집객시설_수', '당월_매출_금액', '총_직장_인구_수', '폐업률']\n",
    "\n",
    "df_lm = df[columns]"
   ]
  },
  {
   "cell_type": "code",
   "execution_count": 59,
   "metadata": {},
   "outputs": [
    {
     "data": {
      "text/html": [
       "<div>\n",
       "<style scoped>\n",
       "    .dataframe tbody tr th:only-of-type {\n",
       "        vertical-align: middle;\n",
       "    }\n",
       "\n",
       "    .dataframe tbody tr th {\n",
       "        vertical-align: top;\n",
       "    }\n",
       "\n",
       "    .dataframe thead th {\n",
       "        text-align: right;\n",
       "    }\n",
       "</style>\n",
       "<table border=\"1\" class=\"dataframe\">\n",
       "  <thead>\n",
       "    <tr style=\"text-align: right;\">\n",
       "      <th></th>\n",
       "      <th>총_유동인구_수</th>\n",
       "      <th>아파트_단지_수</th>\n",
       "      <th>아파트_평균_면적</th>\n",
       "      <th>아파트_평균_시가</th>\n",
       "      <th>총 상주인구 수</th>\n",
       "      <th>집객시설_수</th>\n",
       "      <th>당월_매출_금액</th>\n",
       "      <th>총_직장_인구_수</th>\n",
       "      <th>폐업률</th>\n",
       "    </tr>\n",
       "  </thead>\n",
       "  <tbody>\n",
       "    <tr>\n",
       "      <th>0</th>\n",
       "      <td>90544.0</td>\n",
       "      <td>14.48</td>\n",
       "      <td>82.273333</td>\n",
       "      <td>2.942853e+08</td>\n",
       "      <td>24.0</td>\n",
       "      <td>52.0</td>\n",
       "      <td>1.671959e+11</td>\n",
       "      <td>15904.0</td>\n",
       "      <td>2.587177</td>\n",
       "    </tr>\n",
       "    <tr>\n",
       "      <th>1</th>\n",
       "      <td>3026454.0</td>\n",
       "      <td>22.00</td>\n",
       "      <td>89.000000</td>\n",
       "      <td>5.273471e+08</td>\n",
       "      <td>8221.0</td>\n",
       "      <td>242.0</td>\n",
       "      <td>1.546181e+11</td>\n",
       "      <td>24375.0</td>\n",
       "      <td>3.026257</td>\n",
       "    </tr>\n",
       "    <tr>\n",
       "      <th>2</th>\n",
       "      <td>4033679.0</td>\n",
       "      <td>5.00</td>\n",
       "      <td>39.000000</td>\n",
       "      <td>1.120979e+08</td>\n",
       "      <td>1924.0</td>\n",
       "      <td>327.0</td>\n",
       "      <td>2.592398e+11</td>\n",
       "      <td>32935.0</td>\n",
       "      <td>2.081362</td>\n",
       "    </tr>\n",
       "    <tr>\n",
       "      <th>3</th>\n",
       "      <td>3262023.0</td>\n",
       "      <td>8.00</td>\n",
       "      <td>53.000000</td>\n",
       "      <td>2.379674e+08</td>\n",
       "      <td>2427.0</td>\n",
       "      <td>165.0</td>\n",
       "      <td>2.466393e+11</td>\n",
       "      <td>6054.0</td>\n",
       "      <td>2.107308</td>\n",
       "    </tr>\n",
       "    <tr>\n",
       "      <th>4</th>\n",
       "      <td>3764785.0</td>\n",
       "      <td>14.48</td>\n",
       "      <td>82.273333</td>\n",
       "      <td>2.942853e+08</td>\n",
       "      <td>1104.0</td>\n",
       "      <td>593.0</td>\n",
       "      <td>3.766214e+11</td>\n",
       "      <td>104830.0</td>\n",
       "      <td>2.163080</td>\n",
       "    </tr>\n",
       "  </tbody>\n",
       "</table>\n",
       "</div>"
      ],
      "text/plain": [
       "    총_유동인구_수  아파트_단지_수  아파트_평균_면적     아파트_평균_시가  총 상주인구 수  집객시설_수  \\\n",
       "0    90544.0     14.48  82.273333  2.942853e+08      24.0    52.0   \n",
       "1  3026454.0     22.00  89.000000  5.273471e+08    8221.0   242.0   \n",
       "2  4033679.0      5.00  39.000000  1.120979e+08    1924.0   327.0   \n",
       "3  3262023.0      8.00  53.000000  2.379674e+08    2427.0   165.0   \n",
       "4  3764785.0     14.48  82.273333  2.942853e+08    1104.0   593.0   \n",
       "\n",
       "       당월_매출_금액  총_직장_인구_수       폐업률  \n",
       "0  1.671959e+11    15904.0  2.587177  \n",
       "1  1.546181e+11    24375.0  3.026257  \n",
       "2  2.592398e+11    32935.0  2.081362  \n",
       "3  2.466393e+11     6054.0  2.107308  \n",
       "4  3.766214e+11   104830.0  2.163080  "
      ]
     },
     "execution_count": 59,
     "metadata": {},
     "output_type": "execute_result"
    }
   ],
   "source": [
    "df_lm.head()"
   ]
  },
  {
   "cell_type": "code",
   "execution_count": 60,
   "metadata": {},
   "outputs": [],
   "source": [
    "# min-max scaling 진행\n",
    "df_lm_n = df_lm.copy()\n",
    "for col in df_lm_n.columns:\n",
    "    df_lm_n[col] = minmax_scaling(df_lm[col], columns=[0])"
   ]
  },
  {
   "cell_type": "code",
   "execution_count": 61,
   "metadata": {},
   "outputs": [
    {
     "data": {
      "text/html": [
       "<div>\n",
       "<style scoped>\n",
       "    .dataframe tbody tr th:only-of-type {\n",
       "        vertical-align: middle;\n",
       "    }\n",
       "\n",
       "    .dataframe tbody tr th {\n",
       "        vertical-align: top;\n",
       "    }\n",
       "\n",
       "    .dataframe thead th {\n",
       "        text-align: right;\n",
       "    }\n",
       "</style>\n",
       "<table border=\"1\" class=\"dataframe\">\n",
       "  <thead>\n",
       "    <tr style=\"text-align: right;\">\n",
       "      <th></th>\n",
       "      <th>총_유동인구_수</th>\n",
       "      <th>아파트_단지_수</th>\n",
       "      <th>아파트_평균_면적</th>\n",
       "      <th>아파트_평균_시가</th>\n",
       "      <th>총 상주인구 수</th>\n",
       "      <th>집객시설_수</th>\n",
       "      <th>당월_매출_금액</th>\n",
       "      <th>총_직장_인구_수</th>\n",
       "      <th>폐업률</th>\n",
       "    </tr>\n",
       "  </thead>\n",
       "  <tbody>\n",
       "    <tr>\n",
       "      <th>0</th>\n",
       "      <td>0.009227</td>\n",
       "      <td>0.028620</td>\n",
       "      <td>0.286667</td>\n",
       "      <td>0.123935</td>\n",
       "      <td>0.001466</td>\n",
       "      <td>0.086149</td>\n",
       "      <td>0.257041</td>\n",
       "      <td>0.090966</td>\n",
       "      <td>0.045276</td>\n",
       "    </tr>\n",
       "    <tr>\n",
       "      <th>1</th>\n",
       "      <td>0.308615</td>\n",
       "      <td>0.044586</td>\n",
       "      <td>0.310105</td>\n",
       "      <td>0.222086</td>\n",
       "      <td>0.502015</td>\n",
       "      <td>0.407095</td>\n",
       "      <td>0.237704</td>\n",
       "      <td>0.139421</td>\n",
       "      <td>0.052960</td>\n",
       "    </tr>\n",
       "    <tr>\n",
       "      <th>2</th>\n",
       "      <td>0.411326</td>\n",
       "      <td>0.008493</td>\n",
       "      <td>0.135889</td>\n",
       "      <td>0.047209</td>\n",
       "      <td>0.117489</td>\n",
       "      <td>0.550676</td>\n",
       "      <td>0.398546</td>\n",
       "      <td>0.188385</td>\n",
       "      <td>0.036424</td>\n",
       "    </tr>\n",
       "    <tr>\n",
       "      <th>3</th>\n",
       "      <td>0.332637</td>\n",
       "      <td>0.014862</td>\n",
       "      <td>0.184669</td>\n",
       "      <td>0.100217</td>\n",
       "      <td>0.148205</td>\n",
       "      <td>0.277027</td>\n",
       "      <td>0.379175</td>\n",
       "      <td>0.034624</td>\n",
       "      <td>0.036878</td>\n",
       "    </tr>\n",
       "    <tr>\n",
       "      <th>4</th>\n",
       "      <td>0.383906</td>\n",
       "      <td>0.028620</td>\n",
       "      <td>0.286667</td>\n",
       "      <td>0.123935</td>\n",
       "      <td>0.067416</td>\n",
       "      <td>1.000000</td>\n",
       "      <td>0.579005</td>\n",
       "      <td>0.599629</td>\n",
       "      <td>0.037854</td>\n",
       "    </tr>\n",
       "  </tbody>\n",
       "</table>\n",
       "</div>"
      ],
      "text/plain": [
       "   총_유동인구_수  아파트_단지_수  아파트_평균_면적  아파트_평균_시가  총 상주인구 수    집객시설_수  당월_매출_금액  \\\n",
       "0  0.009227  0.028620   0.286667   0.123935  0.001466  0.086149  0.257041   \n",
       "1  0.308615  0.044586   0.310105   0.222086  0.502015  0.407095  0.237704   \n",
       "2  0.411326  0.008493   0.135889   0.047209  0.117489  0.550676  0.398546   \n",
       "3  0.332637  0.014862   0.184669   0.100217  0.148205  0.277027  0.379175   \n",
       "4  0.383906  0.028620   0.286667   0.123935  0.067416  1.000000  0.579005   \n",
       "\n",
       "   총_직장_인구_수       폐업률  \n",
       "0   0.090966  0.045276  \n",
       "1   0.139421  0.052960  \n",
       "2   0.188385  0.036424  \n",
       "3   0.034624  0.036878  \n",
       "4   0.599629  0.037854  "
      ]
     },
     "execution_count": 61,
     "metadata": {},
     "output_type": "execute_result"
    }
   ],
   "source": [
    "df_lm_n.head()"
   ]
  },
  {
   "cell_type": "markdown",
   "metadata": {},
   "source": [
    "### (2) 데이터 분할"
   ]
  },
  {
   "cell_type": "code",
   "execution_count": 62,
   "metadata": {},
   "outputs": [],
   "source": [
    "# 독립변수, 종속변수 설정\n",
    "X = df_lm_n.drop('폐업률', axis = 1)\n",
    "y = df_lm_n['폐업률']"
   ]
  },
  {
   "cell_type": "code",
   "execution_count": 63,
   "metadata": {},
   "outputs": [],
   "source": [
    "# 학습 데이터, 검증 데이터 분할 (8:2)\n",
    "X_train, X_test, y_train, y_test = train_test_split(X, y, test_size = 0.2, random_state = 20)"
   ]
  },
  {
   "cell_type": "markdown",
   "metadata": {},
   "source": [
    "## 3. 모델링"
   ]
  },
  {
   "cell_type": "code",
   "execution_count": 64,
   "metadata": {},
   "outputs": [],
   "source": [
    "# 모델 생성\n",
    "model1 = sm.OLS(y_train, X_train).fit()"
   ]
  },
  {
   "cell_type": "code",
   "execution_count": 65,
   "metadata": {},
   "outputs": [
    {
     "data": {
      "text/html": [
       "<table class=\"simpletable\">\n",
       "<caption>OLS Regression Results</caption>\n",
       "<tr>\n",
       "  <th>Dep. Variable:</th>           <td>폐업률</td>       <th>  R-squared (uncentered):</th>       <td>   0.682</td> \n",
       "</tr>\n",
       "<tr>\n",
       "  <th>Model:</th>                   <td>OLS</td>       <th>  Adj. R-squared (uncentered):</th>  <td>   0.681</td> \n",
       "</tr>\n",
       "<tr>\n",
       "  <th>Method:</th>             <td>Least Squares</td>  <th>  F-statistic:       </th>           <td>   7041.</td> \n",
       "</tr>\n",
       "<tr>\n",
       "  <th>Date:</th>             <td>Sun, 22 Nov 2020</td> <th>  Prob (F-statistic):</th>            <td>  0.00</td>  \n",
       "</tr>\n",
       "<tr>\n",
       "  <th>Time:</th>                 <td>01:04:18</td>     <th>  Log-Likelihood:    </th>           <td>  45758.</td> \n",
       "</tr>\n",
       "<tr>\n",
       "  <th>No. Observations:</th>      <td> 26329</td>      <th>  AIC:               </th>          <td>-9.150e+04</td>\n",
       "</tr>\n",
       "<tr>\n",
       "  <th>Df Residuals:</th>          <td> 26321</td>      <th>  BIC:               </th>          <td>-9.144e+04</td>\n",
       "</tr>\n",
       "<tr>\n",
       "  <th>Df Model:</th>              <td>     8</td>      <th>                     </th>               <td> </td>    \n",
       "</tr>\n",
       "<tr>\n",
       "  <th>Covariance Type:</th>      <td>nonrobust</td>    <th>                     </th>               <td> </td>    \n",
       "</tr>\n",
       "</table>\n",
       "<table class=\"simpletable\">\n",
       "<tr>\n",
       "      <td></td>         <th>coef</th>     <th>std err</th>      <th>t</th>      <th>P>|t|</th>  <th>[0.025</th>    <th>0.975]</th>  \n",
       "</tr>\n",
       "<tr>\n",
       "  <th>총_유동인구_수</th>  <td>    0.0445</td> <td>    0.008</td> <td>    5.828</td> <td> 0.000</td> <td>    0.030</td> <td>    0.059</td>\n",
       "</tr>\n",
       "<tr>\n",
       "  <th>아파트_단지_수</th>  <td>   -0.0138</td> <td>    0.005</td> <td>   -2.800</td> <td> 0.005</td> <td>   -0.023</td> <td>   -0.004</td>\n",
       "</tr>\n",
       "<tr>\n",
       "  <th>아파트_평균_면적</th> <td>    0.3170</td> <td>    0.004</td> <td>   78.081</td> <td> 0.000</td> <td>    0.309</td> <td>    0.325</td>\n",
       "</tr>\n",
       "<tr>\n",
       "  <th>아파트_평균_시가</th> <td>   -0.2166</td> <td>    0.008</td> <td>  -27.364</td> <td> 0.000</td> <td>   -0.232</td> <td>   -0.201</td>\n",
       "</tr>\n",
       "<tr>\n",
       "  <th>총 상주인구 수</th>  <td>    0.0934</td> <td>    0.004</td> <td>   24.381</td> <td> 0.000</td> <td>    0.086</td> <td>    0.101</td>\n",
       "</tr>\n",
       "<tr>\n",
       "  <th>집객시설_수</th>    <td>    0.0641</td> <td>    0.010</td> <td>    6.610</td> <td> 0.000</td> <td>    0.045</td> <td>    0.083</td>\n",
       "</tr>\n",
       "<tr>\n",
       "  <th>당월_매출_금액</th>  <td>   -0.0439</td> <td>    0.008</td> <td>   -5.530</td> <td> 0.000</td> <td>   -0.059</td> <td>   -0.028</td>\n",
       "</tr>\n",
       "<tr>\n",
       "  <th>총_직장_인구_수</th> <td>   -0.0447</td> <td>    0.008</td> <td>   -5.701</td> <td> 0.000</td> <td>   -0.060</td> <td>   -0.029</td>\n",
       "</tr>\n",
       "</table>\n",
       "<table class=\"simpletable\">\n",
       "<tr>\n",
       "  <th>Omnibus:</th>       <td>14258.111</td> <th>  Durbin-Watson:     </th>  <td>   1.986</td> \n",
       "</tr>\n",
       "<tr>\n",
       "  <th>Prob(Omnibus):</th>  <td> 0.000</td>   <th>  Jarque-Bera (JB):  </th> <td>485379.098</td>\n",
       "</tr>\n",
       "<tr>\n",
       "  <th>Skew:</th>           <td> 2.001</td>   <th>  Prob(JB):          </th>  <td>    0.00</td> \n",
       "</tr>\n",
       "<tr>\n",
       "  <th>Kurtosis:</th>       <td>23.650</td>   <th>  Cond. No.          </th>  <td>    11.9</td> \n",
       "</tr>\n",
       "</table><br/><br/>Warnings:<br/>[1] Standard Errors assume that the covariance matrix of the errors is correctly specified."
      ],
      "text/plain": [
       "<class 'statsmodels.iolib.summary.Summary'>\n",
       "\"\"\"\n",
       "                                 OLS Regression Results                                \n",
       "=======================================================================================\n",
       "Dep. Variable:                    폐업률   R-squared (uncentered):                   0.682\n",
       "Model:                            OLS   Adj. R-squared (uncentered):              0.681\n",
       "Method:                 Least Squares   F-statistic:                              7041.\n",
       "Date:                Sun, 22 Nov 2020   Prob (F-statistic):                        0.00\n",
       "Time:                        01:04:18   Log-Likelihood:                          45758.\n",
       "No. Observations:               26329   AIC:                                 -9.150e+04\n",
       "Df Residuals:                   26321   BIC:                                 -9.144e+04\n",
       "Df Model:                           8                                                  \n",
       "Covariance Type:            nonrobust                                                  \n",
       "==============================================================================\n",
       "                 coef    std err          t      P>|t|      [0.025      0.975]\n",
       "------------------------------------------------------------------------------\n",
       "총_유동인구_수       0.0445      0.008      5.828      0.000       0.030       0.059\n",
       "아파트_단지_수      -0.0138      0.005     -2.800      0.005      -0.023      -0.004\n",
       "아파트_평균_면적      0.3170      0.004     78.081      0.000       0.309       0.325\n",
       "아파트_평균_시가     -0.2166      0.008    -27.364      0.000      -0.232      -0.201\n",
       "총 상주인구 수       0.0934      0.004     24.381      0.000       0.086       0.101\n",
       "집객시설_수         0.0641      0.010      6.610      0.000       0.045       0.083\n",
       "당월_매출_금액      -0.0439      0.008     -5.530      0.000      -0.059      -0.028\n",
       "총_직장_인구_수     -0.0447      0.008     -5.701      0.000      -0.060      -0.029\n",
       "==============================================================================\n",
       "Omnibus:                    14258.111   Durbin-Watson:                   1.986\n",
       "Prob(Omnibus):                  0.000   Jarque-Bera (JB):           485379.098\n",
       "Skew:                           2.001   Prob(JB):                         0.00\n",
       "Kurtosis:                      23.650   Cond. No.                         11.9\n",
       "==============================================================================\n",
       "\n",
       "Warnings:\n",
       "[1] Standard Errors assume that the covariance matrix of the errors is correctly specified.\n",
       "\"\"\""
      ]
     },
     "execution_count": 65,
     "metadata": {},
     "output_type": "execute_result"
    }
   ],
   "source": [
    "# 모델링 결과\n",
    "\n",
    "model1.summary()"
   ]
  },
  {
   "cell_type": "markdown",
   "metadata": {},
   "source": [
    "- 모델은 68% 정도의 설명력을 가짐\n",
    "- 회귀모델은 통계적으로 유의함\n",
    "- 회귀계수는 모두 통계적으로 유의함"
   ]
  },
  {
   "cell_type": "markdown",
   "metadata": {},
   "source": [
    "## 4. 모델 성능확인"
   ]
  },
  {
   "cell_type": "code",
   "execution_count": 66,
   "metadata": {},
   "outputs": [],
   "source": [
    "# 검증 데이터 예측\n",
    "y_predict = model1.predict(X_test)"
   ]
  },
  {
   "cell_type": "code",
   "execution_count": 67,
   "metadata": {},
   "outputs": [
    {
     "data": {
      "text/html": [
       "<div>\n",
       "<style scoped>\n",
       "    .dataframe tbody tr th:only-of-type {\n",
       "        vertical-align: middle;\n",
       "    }\n",
       "\n",
       "    .dataframe tbody tr th {\n",
       "        vertical-align: top;\n",
       "    }\n",
       "\n",
       "    .dataframe thead th {\n",
       "        text-align: right;\n",
       "    }\n",
       "</style>\n",
       "<table border=\"1\" class=\"dataframe\">\n",
       "  <thead>\n",
       "    <tr style=\"text-align: right;\">\n",
       "      <th></th>\n",
       "      <th>y_test</th>\n",
       "      <th>y_predict</th>\n",
       "    </tr>\n",
       "  </thead>\n",
       "  <tbody>\n",
       "    <tr>\n",
       "      <th>27091</th>\n",
       "      <td>0.086879</td>\n",
       "      <td>0.046385</td>\n",
       "    </tr>\n",
       "    <tr>\n",
       "      <th>128</th>\n",
       "      <td>0.000000</td>\n",
       "      <td>0.051115</td>\n",
       "    </tr>\n",
       "    <tr>\n",
       "      <th>17511</th>\n",
       "      <td>0.027926</td>\n",
       "      <td>0.076529</td>\n",
       "    </tr>\n",
       "    <tr>\n",
       "      <th>14891</th>\n",
       "      <td>0.000000</td>\n",
       "      <td>0.050445</td>\n",
       "    </tr>\n",
       "    <tr>\n",
       "      <th>20777</th>\n",
       "      <td>0.021605</td>\n",
       "      <td>0.045820</td>\n",
       "    </tr>\n",
       "    <tr>\n",
       "      <th>...</th>\n",
       "      <td>...</td>\n",
       "      <td>...</td>\n",
       "    </tr>\n",
       "    <tr>\n",
       "      <th>11147</th>\n",
       "      <td>0.019663</td>\n",
       "      <td>0.040051</td>\n",
       "    </tr>\n",
       "    <tr>\n",
       "      <th>6157</th>\n",
       "      <td>0.099756</td>\n",
       "      <td>0.055777</td>\n",
       "    </tr>\n",
       "    <tr>\n",
       "      <th>10685</th>\n",
       "      <td>0.028846</td>\n",
       "      <td>0.051302</td>\n",
       "    </tr>\n",
       "    <tr>\n",
       "      <th>14913</th>\n",
       "      <td>0.039238</td>\n",
       "      <td>0.034703</td>\n",
       "    </tr>\n",
       "    <tr>\n",
       "      <th>3039</th>\n",
       "      <td>0.070707</td>\n",
       "      <td>0.061135</td>\n",
       "    </tr>\n",
       "  </tbody>\n",
       "</table>\n",
       "<p>6583 rows × 2 columns</p>\n",
       "</div>"
      ],
      "text/plain": [
       "         y_test  y_predict\n",
       "27091  0.086879   0.046385\n",
       "128    0.000000   0.051115\n",
       "17511  0.027926   0.076529\n",
       "14891  0.000000   0.050445\n",
       "20777  0.021605   0.045820\n",
       "...         ...        ...\n",
       "11147  0.019663   0.040051\n",
       "6157   0.099756   0.055777\n",
       "10685  0.028846   0.051302\n",
       "14913  0.039238   0.034703\n",
       "3039   0.070707   0.061135\n",
       "\n",
       "[6583 rows x 2 columns]"
      ]
     },
     "execution_count": 67,
     "metadata": {},
     "output_type": "execute_result"
    }
   ],
   "source": [
    "# 실제값 : 예측값 비교\n",
    "y_compare = {'y_test' : y_test, 'y_predict' : y_predict}\n",
    "pd.DataFrame(y_compare)"
   ]
  },
  {
   "cell_type": "code",
   "execution_count": 68,
   "metadata": {},
   "outputs": [
    {
     "data": {
      "text/plain": [
       "Text(0.5, 1.0, 'y_predict & y_test')"
      ]
     },
     "execution_count": 68,
     "metadata": {},
     "output_type": "execute_result"
    },
    {
     "data": {
      "image/png": "[encoded data removed]",
      "text/plain": [
       "<Figure size 720x720 with 1 Axes>"
      ]
     },
     "metadata": {
      "needs_background": "light"
     },
     "output_type": "display_data"
    }
   ],
   "source": [
    "# 실제값 : 예측값 비교\n",
    "\n",
    "plt.figure(figsize = (10,10))\n",
    "sns.scatterplot(x = 'y_predict', y = 'y_test', data = y_compare)\n",
    "plt.xlabel('y_predict')\n",
    "plt.ylabel('y_test')\n",
    "plt.title('y_predict & y_test')"
   ]
  },
  {
   "cell_type": "code",
   "execution_count": 69,
   "metadata": {},
   "outputs": [
    {
     "data": {
      "text/plain": [
       "0.042558299683371145"
      ]
     },
     "execution_count": 69,
     "metadata": {},
     "output_type": "execute_result"
    }
   ],
   "source": [
    "# 훈련 데이터 RMSE\n",
    "\n",
    "y_pred = model1.predict(X_train)\n",
    "math.sqrt(mean_squared_error(y_train, y_pred))"
   ]
  },
  {
   "cell_type": "code",
   "execution_count": 70,
   "metadata": {},
   "outputs": [
    {
     "data": {
      "text/plain": [
       "0.04196424283748791"
      ]
     },
     "execution_count": 70,
     "metadata": {},
     "output_type": "execute_result"
    }
   ],
   "source": [
    "# 검증 데이터 RMSE\n",
    "\n",
    "y_pred = model1.predict(X_test)\n",
    "math.sqrt(mean_squared_error(y_test, y_pred))"
   ]
  },
  {
   "cell_type": "markdown",
   "metadata": {},
   "source": [
    "## 5. model2"
   ]
  },
  {
   "cell_type": "markdown",
   "metadata": {},
   "source": [
    "- 다중공선성을 일으켰던 '아파트 평균 면적' column 제거"
   ]
  },
  {
   "cell_type": "code",
   "execution_count": 75,
   "metadata": {},
   "outputs": [],
   "source": [
    "df_lm_n_2 = df_lm_n.drop('아파트_평균_면적', axis = 1)\n",
    "\n",
    "# 데이터 분할\n",
    "X = df_lm_n_2.drop('폐업률', axis = 1)\n",
    "y = df_lm_n_2['폐업률']\n",
    "X_train_2, X_test_2, y_train_2, y_test_2 = train_test_split(X, y, test_size = 0.2, random_state = 20)\n",
    "\n",
    "# 모델 학습\n",
    "model2 = sm.OLS(y_train_2, X_train_2).fit()"
   ]
  },
  {
   "cell_type": "code",
   "execution_count": 76,
   "metadata": {},
   "outputs": [
    {
     "data": {
      "text/html": [
       "<table class=\"simpletable\">\n",
       "<caption>OLS Regression Results</caption>\n",
       "<tr>\n",
       "  <th>Dep. Variable:</th>           <td>폐업률</td>       <th>  R-squared (uncentered):</th>       <td>   0.608</td> \n",
       "</tr>\n",
       "<tr>\n",
       "  <th>Model:</th>                   <td>OLS</td>       <th>  Adj. R-squared (uncentered):</th>  <td>   0.608</td> \n",
       "</tr>\n",
       "<tr>\n",
       "  <th>Method:</th>             <td>Least Squares</td>  <th>  F-statistic:       </th>           <td>   5827.</td> \n",
       "</tr>\n",
       "<tr>\n",
       "  <th>Date:</th>             <td>Sun, 22 Nov 2020</td> <th>  Prob (F-statistic):</th>            <td>  0.00</td>  \n",
       "</tr>\n",
       "<tr>\n",
       "  <th>Time:</th>                 <td>01:09:54</td>     <th>  Log-Likelihood:    </th>           <td>  43016.</td> \n",
       "</tr>\n",
       "<tr>\n",
       "  <th>No. Observations:</th>      <td> 26329</td>      <th>  AIC:               </th>          <td>-8.602e+04</td>\n",
       "</tr>\n",
       "<tr>\n",
       "  <th>Df Residuals:</th>          <td> 26322</td>      <th>  BIC:               </th>          <td>-8.596e+04</td>\n",
       "</tr>\n",
       "<tr>\n",
       "  <th>Df Model:</th>              <td>     7</td>      <th>                     </th>               <td> </td>    \n",
       "</tr>\n",
       "<tr>\n",
       "  <th>Covariance Type:</th>      <td>nonrobust</td>    <th>                     </th>               <td> </td>    \n",
       "</tr>\n",
       "</table>\n",
       "<table class=\"simpletable\">\n",
       "<tr>\n",
       "      <td></td>         <th>coef</th>     <th>std err</th>      <th>t</th>      <th>P>|t|</th>  <th>[0.025</th>    <th>0.975]</th>  \n",
       "</tr>\n",
       "<tr>\n",
       "  <th>총_유동인구_수</th>  <td>    0.0427</td> <td>    0.008</td> <td>    5.045</td> <td> 0.000</td> <td>    0.026</td> <td>    0.059</td>\n",
       "</tr>\n",
       "<tr>\n",
       "  <th>아파트_단지_수</th>  <td>   -0.0120</td> <td>    0.005</td> <td>   -2.190</td> <td> 0.029</td> <td>   -0.023</td> <td>   -0.001</td>\n",
       "</tr>\n",
       "<tr>\n",
       "  <th>아파트_평균_시가</th> <td>    0.3276</td> <td>    0.004</td> <td>   78.679</td> <td> 0.000</td> <td>    0.319</td> <td>    0.336</td>\n",
       "</tr>\n",
       "<tr>\n",
       "  <th>총 상주인구 수</th>  <td>    0.2152</td> <td>    0.004</td> <td>   55.467</td> <td> 0.000</td> <td>    0.208</td> <td>    0.223</td>\n",
       "</tr>\n",
       "<tr>\n",
       "  <th>집객시설_수</th>    <td>    0.0981</td> <td>    0.011</td> <td>    9.130</td> <td> 0.000</td> <td>    0.077</td> <td>    0.119</td>\n",
       "</tr>\n",
       "<tr>\n",
       "  <th>당월_매출_금액</th>  <td>   -0.0444</td> <td>    0.009</td> <td>   -5.034</td> <td> 0.000</td> <td>   -0.062</td> <td>   -0.027</td>\n",
       "</tr>\n",
       "<tr>\n",
       "  <th>총_직장_인구_수</th> <td>   -0.0557</td> <td>    0.009</td> <td>   -6.409</td> <td> 0.000</td> <td>   -0.073</td> <td>   -0.039</td>\n",
       "</tr>\n",
       "</table>\n",
       "<table class=\"simpletable\">\n",
       "<tr>\n",
       "  <th>Omnibus:</th>       <td>11142.079</td> <th>  Durbin-Watson:     </th>  <td>   1.912</td> \n",
       "</tr>\n",
       "<tr>\n",
       "  <th>Prob(Omnibus):</th>  <td> 0.000</td>   <th>  Jarque-Bera (JB):  </th> <td>262135.595</td>\n",
       "</tr>\n",
       "<tr>\n",
       "  <th>Skew:</th>           <td> 1.497</td>   <th>  Prob(JB):          </th>  <td>    0.00</td> \n",
       "</tr>\n",
       "<tr>\n",
       "  <th>Kurtosis:</th>       <td>18.165</td>   <th>  Cond. No.          </th>  <td>    8.22</td> \n",
       "</tr>\n",
       "</table><br/><br/>Warnings:<br/>[1] Standard Errors assume that the covariance matrix of the errors is correctly specified."
      ],
      "text/plain": [
       "<class 'statsmodels.iolib.summary.Summary'>\n",
       "\"\"\"\n",
       "                                 OLS Regression Results                                \n",
       "=======================================================================================\n",
       "Dep. Variable:                    폐업률   R-squared (uncentered):                   0.608\n",
       "Model:                            OLS   Adj. R-squared (uncentered):              0.608\n",
       "Method:                 Least Squares   F-statistic:                              5827.\n",
       "Date:                Sun, 22 Nov 2020   Prob (F-statistic):                        0.00\n",
       "Time:                        01:09:54   Log-Likelihood:                          43016.\n",
       "No. Observations:               26329   AIC:                                 -8.602e+04\n",
       "Df Residuals:                   26322   BIC:                                 -8.596e+04\n",
       "Df Model:                           7                                                  \n",
       "Covariance Type:            nonrobust                                                  \n",
       "==============================================================================\n",
       "                 coef    std err          t      P>|t|      [0.025      0.975]\n",
       "------------------------------------------------------------------------------\n",
       "총_유동인구_수       0.0427      0.008      5.045      0.000       0.026       0.059\n",
       "아파트_단지_수      -0.0120      0.005     -2.190      0.029      -0.023      -0.001\n",
       "아파트_평균_시가      0.3276      0.004     78.679      0.000       0.319       0.336\n",
       "총 상주인구 수       0.2152      0.004     55.467      0.000       0.208       0.223\n",
       "집객시설_수         0.0981      0.011      9.130      0.000       0.077       0.119\n",
       "당월_매출_금액      -0.0444      0.009     -5.034      0.000      -0.062      -0.027\n",
       "총_직장_인구_수     -0.0557      0.009     -6.409      0.000      -0.073      -0.039\n",
       "==============================================================================\n",
       "Omnibus:                    11142.079   Durbin-Watson:                   1.912\n",
       "Prob(Omnibus):                  0.000   Jarque-Bera (JB):           262135.595\n",
       "Skew:                           1.497   Prob(JB):                         0.00\n",
       "Kurtosis:                      18.165   Cond. No.                         8.22\n",
       "==============================================================================\n",
       "\n",
       "Warnings:\n",
       "[1] Standard Errors assume that the covariance matrix of the errors is correctly specified.\n",
       "\"\"\""
      ]
     },
     "execution_count": 76,
     "metadata": {},
     "output_type": "execute_result"
    }
   ],
   "source": [
    "model2.summary()"
   ]
  },
  {
   "cell_type": "markdown",
   "metadata": {},
   "source": [
    "- 오히려 모델의 설명력이 떨어짐 0.68 >> 0.60\n",
    "- '아파트_단지_수' 항목의 p-value가 상승함"
   ]
  },
  {
   "cell_type": "markdown",
   "metadata": {},
   "source": [
    "## 6. model2 성능확인"
   ]
  },
  {
   "cell_type": "code",
   "execution_count": 77,
   "metadata": {},
   "outputs": [],
   "source": [
    "# 검증 데이터 예측\n",
    "\n",
    "y_predict = model2.predict(X_test_2)"
   ]
  },
  {
   "cell_type": "code",
   "execution_count": 78,
   "metadata": {},
   "outputs": [
    {
     "data": {
      "text/html": [
       "<div>\n",
       "<style scoped>\n",
       "    .dataframe tbody tr th:only-of-type {\n",
       "        vertical-align: middle;\n",
       "    }\n",
       "\n",
       "    .dataframe tbody tr th {\n",
       "        vertical-align: top;\n",
       "    }\n",
       "\n",
       "    .dataframe thead th {\n",
       "        text-align: right;\n",
       "    }\n",
       "</style>\n",
       "<table border=\"1\" class=\"dataframe\">\n",
       "  <thead>\n",
       "    <tr style=\"text-align: right;\">\n",
       "      <th></th>\n",
       "      <th>y_test</th>\n",
       "      <th>y_predict</th>\n",
       "    </tr>\n",
       "  </thead>\n",
       "  <tbody>\n",
       "    <tr>\n",
       "      <th>27091</th>\n",
       "      <td>0.086879</td>\n",
       "      <td>0.038674</td>\n",
       "    </tr>\n",
       "    <tr>\n",
       "      <th>128</th>\n",
       "      <td>0.000000</td>\n",
       "      <td>0.015606</td>\n",
       "    </tr>\n",
       "    <tr>\n",
       "      <th>17511</th>\n",
       "      <td>0.027926</td>\n",
       "      <td>0.060981</td>\n",
       "    </tr>\n",
       "    <tr>\n",
       "      <th>14891</th>\n",
       "      <td>0.000000</td>\n",
       "      <td>0.055575</td>\n",
       "    </tr>\n",
       "    <tr>\n",
       "      <th>20777</th>\n",
       "      <td>0.021605</td>\n",
       "      <td>0.037337</td>\n",
       "    </tr>\n",
       "    <tr>\n",
       "      <th>...</th>\n",
       "      <td>...</td>\n",
       "      <td>...</td>\n",
       "    </tr>\n",
       "    <tr>\n",
       "      <th>11147</th>\n",
       "      <td>0.019663</td>\n",
       "      <td>0.055291</td>\n",
       "    </tr>\n",
       "    <tr>\n",
       "      <th>6157</th>\n",
       "      <td>0.099756</td>\n",
       "      <td>0.041604</td>\n",
       "    </tr>\n",
       "    <tr>\n",
       "      <th>10685</th>\n",
       "      <td>0.028846</td>\n",
       "      <td>0.053543</td>\n",
       "    </tr>\n",
       "    <tr>\n",
       "      <th>14913</th>\n",
       "      <td>0.039238</td>\n",
       "      <td>0.039430</td>\n",
       "    </tr>\n",
       "    <tr>\n",
       "      <th>3039</th>\n",
       "      <td>0.070707</td>\n",
       "      <td>0.037093</td>\n",
       "    </tr>\n",
       "  </tbody>\n",
       "</table>\n",
       "<p>6583 rows × 2 columns</p>\n",
       "</div>"
      ],
      "text/plain": [
       "         y_test  y_predict\n",
       "27091  0.086879   0.038674\n",
       "128    0.000000   0.015606\n",
       "17511  0.027926   0.060981\n",
       "14891  0.000000   0.055575\n",
       "20777  0.021605   0.037337\n",
       "...         ...        ...\n",
       "11147  0.019663   0.055291\n",
       "6157   0.099756   0.041604\n",
       "10685  0.028846   0.053543\n",
       "14913  0.039238   0.039430\n",
       "3039   0.070707   0.037093\n",
       "\n",
       "[6583 rows x 2 columns]"
      ]
     },
     "execution_count": 78,
     "metadata": {},
     "output_type": "execute_result"
    }
   ],
   "source": [
    "# 실제값 : 예측값 비교\n",
    "y_compare = {'y_test' : y_test_2, 'y_predict' : y_predict}\n",
    "pd.DataFrame(y_compare)"
   ]
  },
  {
   "cell_type": "code",
   "execution_count": 79,
   "metadata": {},
   "outputs": [
    {
     "data": {
      "text/plain": [
       "Text(0.5, 1.0, 'y_predict & y_test_2')"
      ]
     },
     "execution_count": 79,
     "metadata": {},
     "output_type": "execute_result"
    },
    {
     "data": {
      "image/png": "[encoded data removed]",
      "text/plain": [
       "<Figure size 720x720 with 1 Axes>"
      ]
     },
     "metadata": {
      "needs_background": "light"
     },
     "output_type": "display_data"
    }
   ],
   "source": [
    "# 실제값 : 예측값 비교\n",
    "\n",
    "plt.figure(figsize = (10,10))\n",
    "sns.scatterplot(x = 'y_predict', y = 'y_test', data = y_compare)\n",
    "plt.xlabel('y_predict')\n",
    "plt.ylabel('y_test_2')\n",
    "plt.title('y_predict & y_test_2')"
   ]
  },
  {
   "cell_type": "code",
   "execution_count": 81,
   "metadata": {},
   "outputs": [
    {
     "data": {
      "text/plain": [
       "0.04723064515547441"
      ]
     },
     "execution_count": 81,
     "metadata": {},
     "output_type": "execute_result"
    }
   ],
   "source": [
    "# 훈련 데이터 RMSE\n",
    "y_pred = model2.predict(X_train_2)\n",
    "math.sqrt(mean_squared_error(y_train_2, y_pred))"
   ]
  },
  {
   "cell_type": "code",
   "execution_count": 82,
   "metadata": {},
   "outputs": [
    {
     "data": {
      "text/plain": [
       "0.046947648435157724"
      ]
     },
     "execution_count": 82,
     "metadata": {},
     "output_type": "execute_result"
    }
   ],
   "source": [
    "# 검증 데이터 RMSE\n",
    "\n",
    "y_pred = model2.predict(X_test_2)\n",
    "math.sqrt(mean_squared_error(y_test_2, y_pred))"
   ]
  },
  {
   "cell_type": "markdown",
   "metadata": {},
   "source": [
    "- model1에 비해 RMSE도 약간 커짐  "
   ]
  }
 ],
 "metadata": {
  "kernelspec": {
   "display_name": "Python 3",
   "language": "python",
   "name": "python3"
  },
  "language_info": {
   "codemirror_mode": {
    "name": "ipython",
    "version": 3
   },
   "file_extension": ".py",
   "mimetype": "text/x-python",
   "name": "python",
   "nbconvert_exporter": "python",
   "pygments_lexer": "ipython3",
   "version": "3.7.6"
  }
 },
 "nbformat": 4,
 "nbformat_minor": 4
}
