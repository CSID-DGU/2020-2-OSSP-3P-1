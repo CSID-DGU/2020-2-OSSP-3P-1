{
 "cells": [
  {
   "cell_type": "markdown",
   "metadata": {},
   "source": [
    "# 선형회귀 모델 (sklearn)"
   ]
  },
  {
   "cell_type": "code",
   "execution_count": 112,
   "metadata": {},
   "outputs": [],
   "source": [
    "import pandas as pd\n",
    "import math\n",
    "import seaborn as sns\n",
    "import matplotlib.pyplot as plt\n",
    "from sklearn.linear_model import LinearRegression\n",
    "from mlxtend.preprocessing import minmax_scaling\n",
    "from sklearn.model_selection import train_test_split\n",
    "from sklearn.metrics import mean_squared_error"
   ]
  },
  {
   "cell_type": "markdown",
   "metadata": {},
   "source": [
    "## 1. 데이터 불러오기"
   ]
  },
  {
   "cell_type": "code",
   "execution_count": 113,
   "metadata": {},
   "outputs": [],
   "source": [
    "df = pd.read_csv('C:/Users/Admin/Desktop/OSSP_final_data_filled_with_knn_with_LABEL.csv', encoding = 'cp949')"
   ]
  },
  {
   "cell_type": "code",
   "execution_count": 114,
   "metadata": {},
   "outputs": [
    {
     "data": {
      "text/html": [
       "<div>\n",
       "<style scoped>\n",
       "    .dataframe tbody tr th:only-of-type {\n",
       "        vertical-align: middle;\n",
       "    }\n",
       "\n",
       "    .dataframe tbody tr th {\n",
       "        vertical-align: top;\n",
       "    }\n",
       "\n",
       "    .dataframe thead th {\n",
       "        text-align: right;\n",
       "    }\n",
       "</style>\n",
       "<table border=\"1\" class=\"dataframe\">\n",
       "  <thead>\n",
       "    <tr style=\"text-align: right;\">\n",
       "      <th></th>\n",
       "      <th>Unnamed: 0</th>\n",
       "      <th>기준_년_코드</th>\n",
       "      <th>기준_분기_코드</th>\n",
       "      <th>상권코드_0</th>\n",
       "      <th>상권코드_1</th>\n",
       "      <th>상권코드_2</th>\n",
       "      <th>상권코드_3</th>\n",
       "      <th>상권코드_4</th>\n",
       "      <th>상권코드_5</th>\n",
       "      <th>상권코드_6</th>\n",
       "      <th>...</th>\n",
       "      <th>상권코드_1495</th>\n",
       "      <th>총_유동인구_수</th>\n",
       "      <th>아파트_단지_수</th>\n",
       "      <th>아파트_평균_면적</th>\n",
       "      <th>아파트_평균_시가</th>\n",
       "      <th>총 상주인구 수</th>\n",
       "      <th>집객시설_수</th>\n",
       "      <th>당월_매출_금액</th>\n",
       "      <th>총_직장_인구_수</th>\n",
       "      <th>폐업률</th>\n",
       "    </tr>\n",
       "  </thead>\n",
       "  <tbody>\n",
       "    <tr>\n",
       "      <th>0</th>\n",
       "      <td>0</td>\n",
       "      <td>2020.0</td>\n",
       "      <td>2.0</td>\n",
       "      <td>0.0</td>\n",
       "      <td>0.0</td>\n",
       "      <td>0.0</td>\n",
       "      <td>0.0</td>\n",
       "      <td>0.0</td>\n",
       "      <td>0.0</td>\n",
       "      <td>0.0</td>\n",
       "      <td>...</td>\n",
       "      <td>1.0</td>\n",
       "      <td>90544.0</td>\n",
       "      <td>14.48</td>\n",
       "      <td>82.273333</td>\n",
       "      <td>2.942853e+08</td>\n",
       "      <td>24.0</td>\n",
       "      <td>52.0</td>\n",
       "      <td>1.671959e+11</td>\n",
       "      <td>15904.0</td>\n",
       "      <td>2.587177</td>\n",
       "    </tr>\n",
       "    <tr>\n",
       "      <th>1</th>\n",
       "      <td>1</td>\n",
       "      <td>2020.0</td>\n",
       "      <td>2.0</td>\n",
       "      <td>0.0</td>\n",
       "      <td>0.0</td>\n",
       "      <td>0.0</td>\n",
       "      <td>0.0</td>\n",
       "      <td>0.0</td>\n",
       "      <td>0.0</td>\n",
       "      <td>0.0</td>\n",
       "      <td>...</td>\n",
       "      <td>0.0</td>\n",
       "      <td>3026454.0</td>\n",
       "      <td>22.00</td>\n",
       "      <td>89.000000</td>\n",
       "      <td>5.273471e+08</td>\n",
       "      <td>8221.0</td>\n",
       "      <td>242.0</td>\n",
       "      <td>1.546181e+11</td>\n",
       "      <td>24375.0</td>\n",
       "      <td>3.026257</td>\n",
       "    </tr>\n",
       "    <tr>\n",
       "      <th>2</th>\n",
       "      <td>2</td>\n",
       "      <td>2020.0</td>\n",
       "      <td>2.0</td>\n",
       "      <td>0.0</td>\n",
       "      <td>0.0</td>\n",
       "      <td>0.0</td>\n",
       "      <td>0.0</td>\n",
       "      <td>0.0</td>\n",
       "      <td>0.0</td>\n",
       "      <td>0.0</td>\n",
       "      <td>...</td>\n",
       "      <td>0.0</td>\n",
       "      <td>4033679.0</td>\n",
       "      <td>5.00</td>\n",
       "      <td>39.000000</td>\n",
       "      <td>1.120979e+08</td>\n",
       "      <td>1924.0</td>\n",
       "      <td>327.0</td>\n",
       "      <td>2.592398e+11</td>\n",
       "      <td>32935.0</td>\n",
       "      <td>2.081362</td>\n",
       "    </tr>\n",
       "    <tr>\n",
       "      <th>3</th>\n",
       "      <td>3</td>\n",
       "      <td>2020.0</td>\n",
       "      <td>2.0</td>\n",
       "      <td>0.0</td>\n",
       "      <td>0.0</td>\n",
       "      <td>0.0</td>\n",
       "      <td>0.0</td>\n",
       "      <td>0.0</td>\n",
       "      <td>0.0</td>\n",
       "      <td>0.0</td>\n",
       "      <td>...</td>\n",
       "      <td>0.0</td>\n",
       "      <td>3262023.0</td>\n",
       "      <td>8.00</td>\n",
       "      <td>53.000000</td>\n",
       "      <td>2.379674e+08</td>\n",
       "      <td>2427.0</td>\n",
       "      <td>165.0</td>\n",
       "      <td>2.466393e+11</td>\n",
       "      <td>6054.0</td>\n",
       "      <td>2.107308</td>\n",
       "    </tr>\n",
       "    <tr>\n",
       "      <th>4</th>\n",
       "      <td>4</td>\n",
       "      <td>2020.0</td>\n",
       "      <td>2.0</td>\n",
       "      <td>0.0</td>\n",
       "      <td>0.0</td>\n",
       "      <td>0.0</td>\n",
       "      <td>0.0</td>\n",
       "      <td>0.0</td>\n",
       "      <td>0.0</td>\n",
       "      <td>0.0</td>\n",
       "      <td>...</td>\n",
       "      <td>0.0</td>\n",
       "      <td>3764785.0</td>\n",
       "      <td>14.48</td>\n",
       "      <td>82.273333</td>\n",
       "      <td>2.942853e+08</td>\n",
       "      <td>1104.0</td>\n",
       "      <td>593.0</td>\n",
       "      <td>3.766214e+11</td>\n",
       "      <td>104830.0</td>\n",
       "      <td>2.163080</td>\n",
       "    </tr>\n",
       "  </tbody>\n",
       "</table>\n",
       "<p>5 rows × 1508 columns</p>\n",
       "</div>"
      ],
      "text/plain": [
       "   Unnamed: 0  기준_년_코드  기준_분기_코드  상권코드_0  상권코드_1  상권코드_2  상권코드_3  상권코드_4  \\\n",
       "0           0   2020.0       2.0     0.0     0.0     0.0     0.0     0.0   \n",
       "1           1   2020.0       2.0     0.0     0.0     0.0     0.0     0.0   \n",
       "2           2   2020.0       2.0     0.0     0.0     0.0     0.0     0.0   \n",
       "3           3   2020.0       2.0     0.0     0.0     0.0     0.0     0.0   \n",
       "4           4   2020.0       2.0     0.0     0.0     0.0     0.0     0.0   \n",
       "\n",
       "   상권코드_5  상권코드_6  ...  상권코드_1495   총_유동인구_수  아파트_단지_수  아파트_평균_면적  \\\n",
       "0     0.0     0.0  ...        1.0    90544.0     14.48  82.273333   \n",
       "1     0.0     0.0  ...        0.0  3026454.0     22.00  89.000000   \n",
       "2     0.0     0.0  ...        0.0  4033679.0      5.00  39.000000   \n",
       "3     0.0     0.0  ...        0.0  3262023.0      8.00  53.000000   \n",
       "4     0.0     0.0  ...        0.0  3764785.0     14.48  82.273333   \n",
       "\n",
       "      아파트_평균_시가  총 상주인구 수  집객시설_수      당월_매출_금액  총_직장_인구_수       폐업률  \n",
       "0  2.942853e+08      24.0    52.0  1.671959e+11    15904.0  2.587177  \n",
       "1  5.273471e+08    8221.0   242.0  1.546181e+11    24375.0  3.026257  \n",
       "2  1.120979e+08    1924.0   327.0  2.592398e+11    32935.0  2.081362  \n",
       "3  2.379674e+08    2427.0   165.0  2.466393e+11     6054.0  2.107308  \n",
       "4  2.942853e+08    1104.0   593.0  3.766214e+11   104830.0  2.163080  \n",
       "\n",
       "[5 rows x 1508 columns]"
      ]
     },
     "execution_count": 114,
     "metadata": {},
     "output_type": "execute_result"
    }
   ],
   "source": [
    "df.head()"
   ]
  },
  {
   "cell_type": "code",
   "execution_count": 115,
   "metadata": {},
   "outputs": [
    {
     "data": {
      "text/plain": [
       "(32912, 1508)"
      ]
     },
     "execution_count": 115,
     "metadata": {},
     "output_type": "execute_result"
    }
   ],
   "source": [
    "df.shape"
   ]
  },
  {
   "cell_type": "code",
   "execution_count": 116,
   "metadata": {},
   "outputs": [
    {
     "data": {
      "text/plain": [
       "Index(['Unnamed: 0', '기준_년_코드', '기준_분기_코드', '상권코드_0', '상권코드_1', '상권코드_2',\n",
       "       '상권코드_3', '상권코드_4', '상권코드_5', '상권코드_6',\n",
       "       ...\n",
       "       '상권코드_1495', '총_유동인구_수', '아파트_단지_수', '아파트_평균_면적', '아파트_평균_시가',\n",
       "       '총 상주인구 수', '집객시설_수', '당월_매출_금액', '총_직장_인구_수', '폐업률'],\n",
       "      dtype='object', length=1508)"
      ]
     },
     "execution_count": 116,
     "metadata": {},
     "output_type": "execute_result"
    }
   ],
   "source": [
    "df.columns"
   ]
  },
  {
   "cell_type": "code",
   "execution_count": 117,
   "metadata": {},
   "outputs": [
    {
     "name": "stdout",
     "output_type": "stream",
     "text": [
      "결측치 수 :  0\n"
     ]
    }
   ],
   "source": [
    "n_of_nulls = df.isnull().sum().sum()\n",
    "print(\"결측치 수 : \", n_of_nulls)"
   ]
  },
  {
   "cell_type": "markdown",
   "metadata": {},
   "source": [
    "## 2. 데이터 전처리\n",
    "### (1) 데이터 정규화"
   ]
  },
  {
   "cell_type": "code",
   "execution_count": 118,
   "metadata": {},
   "outputs": [],
   "source": [
    "# 사용할 column 추출\n",
    "columns = ['총_유동인구_수', '아파트_단지_수', '아파트_평균_면적', '아파트_평균_시가',\n",
    "       '총 상주인구 수', '집객시설_수', '당월_매출_금액', '총_직장_인구_수', '폐업률']\n",
    "\n",
    "df_lm = df[columns]"
   ]
  },
  {
   "cell_type": "code",
   "execution_count": 119,
   "metadata": {},
   "outputs": [
    {
     "data": {
      "text/html": [
       "<div>\n",
       "<style scoped>\n",
       "    .dataframe tbody tr th:only-of-type {\n",
       "        vertical-align: middle;\n",
       "    }\n",
       "\n",
       "    .dataframe tbody tr th {\n",
       "        vertical-align: top;\n",
       "    }\n",
       "\n",
       "    .dataframe thead th {\n",
       "        text-align: right;\n",
       "    }\n",
       "</style>\n",
       "<table border=\"1\" class=\"dataframe\">\n",
       "  <thead>\n",
       "    <tr style=\"text-align: right;\">\n",
       "      <th></th>\n",
       "      <th>총_유동인구_수</th>\n",
       "      <th>아파트_단지_수</th>\n",
       "      <th>아파트_평균_면적</th>\n",
       "      <th>아파트_평균_시가</th>\n",
       "      <th>총 상주인구 수</th>\n",
       "      <th>집객시설_수</th>\n",
       "      <th>당월_매출_금액</th>\n",
       "      <th>총_직장_인구_수</th>\n",
       "      <th>폐업률</th>\n",
       "    </tr>\n",
       "  </thead>\n",
       "  <tbody>\n",
       "    <tr>\n",
       "      <th>0</th>\n",
       "      <td>90544.0</td>\n",
       "      <td>14.48</td>\n",
       "      <td>82.273333</td>\n",
       "      <td>2.942853e+08</td>\n",
       "      <td>24.0</td>\n",
       "      <td>52.0</td>\n",
       "      <td>1.671959e+11</td>\n",
       "      <td>15904.0</td>\n",
       "      <td>2.587177</td>\n",
       "    </tr>\n",
       "    <tr>\n",
       "      <th>1</th>\n",
       "      <td>3026454.0</td>\n",
       "      <td>22.00</td>\n",
       "      <td>89.000000</td>\n",
       "      <td>5.273471e+08</td>\n",
       "      <td>8221.0</td>\n",
       "      <td>242.0</td>\n",
       "      <td>1.546181e+11</td>\n",
       "      <td>24375.0</td>\n",
       "      <td>3.026257</td>\n",
       "    </tr>\n",
       "    <tr>\n",
       "      <th>2</th>\n",
       "      <td>4033679.0</td>\n",
       "      <td>5.00</td>\n",
       "      <td>39.000000</td>\n",
       "      <td>1.120979e+08</td>\n",
       "      <td>1924.0</td>\n",
       "      <td>327.0</td>\n",
       "      <td>2.592398e+11</td>\n",
       "      <td>32935.0</td>\n",
       "      <td>2.081362</td>\n",
       "    </tr>\n",
       "    <tr>\n",
       "      <th>3</th>\n",
       "      <td>3262023.0</td>\n",
       "      <td>8.00</td>\n",
       "      <td>53.000000</td>\n",
       "      <td>2.379674e+08</td>\n",
       "      <td>2427.0</td>\n",
       "      <td>165.0</td>\n",
       "      <td>2.466393e+11</td>\n",
       "      <td>6054.0</td>\n",
       "      <td>2.107308</td>\n",
       "    </tr>\n",
       "    <tr>\n",
       "      <th>4</th>\n",
       "      <td>3764785.0</td>\n",
       "      <td>14.48</td>\n",
       "      <td>82.273333</td>\n",
       "      <td>2.942853e+08</td>\n",
       "      <td>1104.0</td>\n",
       "      <td>593.0</td>\n",
       "      <td>3.766214e+11</td>\n",
       "      <td>104830.0</td>\n",
       "      <td>2.163080</td>\n",
       "    </tr>\n",
       "  </tbody>\n",
       "</table>\n",
       "</div>"
      ],
      "text/plain": [
       "    총_유동인구_수  아파트_단지_수  아파트_평균_면적     아파트_평균_시가  총 상주인구 수  집객시설_수  \\\n",
       "0    90544.0     14.48  82.273333  2.942853e+08      24.0    52.0   \n",
       "1  3026454.0     22.00  89.000000  5.273471e+08    8221.0   242.0   \n",
       "2  4033679.0      5.00  39.000000  1.120979e+08    1924.0   327.0   \n",
       "3  3262023.0      8.00  53.000000  2.379674e+08    2427.0   165.0   \n",
       "4  3764785.0     14.48  82.273333  2.942853e+08    1104.0   593.0   \n",
       "\n",
       "       당월_매출_금액  총_직장_인구_수       폐업률  \n",
       "0  1.671959e+11    15904.0  2.587177  \n",
       "1  1.546181e+11    24375.0  3.026257  \n",
       "2  2.592398e+11    32935.0  2.081362  \n",
       "3  2.466393e+11     6054.0  2.107308  \n",
       "4  3.766214e+11   104830.0  2.163080  "
      ]
     },
     "execution_count": 119,
     "metadata": {},
     "output_type": "execute_result"
    }
   ],
   "source": [
    "df_lm.head()"
   ]
  },
  {
   "cell_type": "code",
   "execution_count": 120,
   "metadata": {},
   "outputs": [],
   "source": [
    "# min-max scaling 진행\n",
    "df_lm_n = df_lm.copy()\n",
    "for col in df_lm_n.columns:\n",
    "    df_lm_n[col] = minmax_scaling(df_lm[col], columns=[0])"
   ]
  },
  {
   "cell_type": "code",
   "execution_count": 121,
   "metadata": {},
   "outputs": [
    {
     "data": {
      "text/html": [
       "<div>\n",
       "<style scoped>\n",
       "    .dataframe tbody tr th:only-of-type {\n",
       "        vertical-align: middle;\n",
       "    }\n",
       "\n",
       "    .dataframe tbody tr th {\n",
       "        vertical-align: top;\n",
       "    }\n",
       "\n",
       "    .dataframe thead th {\n",
       "        text-align: right;\n",
       "    }\n",
       "</style>\n",
       "<table border=\"1\" class=\"dataframe\">\n",
       "  <thead>\n",
       "    <tr style=\"text-align: right;\">\n",
       "      <th></th>\n",
       "      <th>총_유동인구_수</th>\n",
       "      <th>아파트_단지_수</th>\n",
       "      <th>아파트_평균_면적</th>\n",
       "      <th>아파트_평균_시가</th>\n",
       "      <th>총 상주인구 수</th>\n",
       "      <th>집객시설_수</th>\n",
       "      <th>당월_매출_금액</th>\n",
       "      <th>총_직장_인구_수</th>\n",
       "      <th>폐업률</th>\n",
       "    </tr>\n",
       "  </thead>\n",
       "  <tbody>\n",
       "    <tr>\n",
       "      <th>0</th>\n",
       "      <td>0.009227</td>\n",
       "      <td>0.028620</td>\n",
       "      <td>0.286667</td>\n",
       "      <td>0.123935</td>\n",
       "      <td>0.001466</td>\n",
       "      <td>0.086149</td>\n",
       "      <td>0.257041</td>\n",
       "      <td>0.090966</td>\n",
       "      <td>0.045276</td>\n",
       "    </tr>\n",
       "    <tr>\n",
       "      <th>1</th>\n",
       "      <td>0.308615</td>\n",
       "      <td>0.044586</td>\n",
       "      <td>0.310105</td>\n",
       "      <td>0.222086</td>\n",
       "      <td>0.502015</td>\n",
       "      <td>0.407095</td>\n",
       "      <td>0.237704</td>\n",
       "      <td>0.139421</td>\n",
       "      <td>0.052960</td>\n",
       "    </tr>\n",
       "    <tr>\n",
       "      <th>2</th>\n",
       "      <td>0.411326</td>\n",
       "      <td>0.008493</td>\n",
       "      <td>0.135889</td>\n",
       "      <td>0.047209</td>\n",
       "      <td>0.117489</td>\n",
       "      <td>0.550676</td>\n",
       "      <td>0.398546</td>\n",
       "      <td>0.188385</td>\n",
       "      <td>0.036424</td>\n",
       "    </tr>\n",
       "    <tr>\n",
       "      <th>3</th>\n",
       "      <td>0.332637</td>\n",
       "      <td>0.014862</td>\n",
       "      <td>0.184669</td>\n",
       "      <td>0.100217</td>\n",
       "      <td>0.148205</td>\n",
       "      <td>0.277027</td>\n",
       "      <td>0.379175</td>\n",
       "      <td>0.034624</td>\n",
       "      <td>0.036878</td>\n",
       "    </tr>\n",
       "    <tr>\n",
       "      <th>4</th>\n",
       "      <td>0.383906</td>\n",
       "      <td>0.028620</td>\n",
       "      <td>0.286667</td>\n",
       "      <td>0.123935</td>\n",
       "      <td>0.067416</td>\n",
       "      <td>1.000000</td>\n",
       "      <td>0.579005</td>\n",
       "      <td>0.599629</td>\n",
       "      <td>0.037854</td>\n",
       "    </tr>\n",
       "  </tbody>\n",
       "</table>\n",
       "</div>"
      ],
      "text/plain": [
       "   총_유동인구_수  아파트_단지_수  아파트_평균_면적  아파트_평균_시가  총 상주인구 수    집객시설_수  당월_매출_금액  \\\n",
       "0  0.009227  0.028620   0.286667   0.123935  0.001466  0.086149  0.257041   \n",
       "1  0.308615  0.044586   0.310105   0.222086  0.502015  0.407095  0.237704   \n",
       "2  0.411326  0.008493   0.135889   0.047209  0.117489  0.550676  0.398546   \n",
       "3  0.332637  0.014862   0.184669   0.100217  0.148205  0.277027  0.379175   \n",
       "4  0.383906  0.028620   0.286667   0.123935  0.067416  1.000000  0.579005   \n",
       "\n",
       "   총_직장_인구_수       폐업률  \n",
       "0   0.090966  0.045276  \n",
       "1   0.139421  0.052960  \n",
       "2   0.188385  0.036424  \n",
       "3   0.034624  0.036878  \n",
       "4   0.599629  0.037854  "
      ]
     },
     "execution_count": 121,
     "metadata": {},
     "output_type": "execute_result"
    }
   ],
   "source": [
    "df_lm_n.head()"
   ]
  },
  {
   "cell_type": "markdown",
   "metadata": {},
   "source": [
    "### (2) 데이터 분할"
   ]
  },
  {
   "cell_type": "code",
   "execution_count": 122,
   "metadata": {},
   "outputs": [],
   "source": [
    "# 독립변수, 종속변수 설정\n",
    "X = df_lm_n.drop('폐업률', axis = 1)\n",
    "y = df_lm_n['폐업률']"
   ]
  },
  {
   "cell_type": "code",
   "execution_count": 123,
   "metadata": {},
   "outputs": [],
   "source": [
    "# 학습 데이터, 검증 데이터 분할 (8:2)\n",
    "X_train, X_test, y_train, y_test = train_test_split(X, y, test_size = 0.2, random_state = 20)"
   ]
  },
  {
   "cell_type": "markdown",
   "metadata": {},
   "source": [
    "## 3. 모델링"
   ]
  },
  {
   "cell_type": "code",
   "execution_count": 124,
   "metadata": {},
   "outputs": [],
   "source": [
    "# 모델 생성\n",
    "model1 = LinearRegression()"
   ]
  },
  {
   "cell_type": "code",
   "execution_count": 125,
   "metadata": {},
   "outputs": [],
   "source": [
    "# 모델 학습\n",
    "model1 = model1.fit(X_train, y_train)"
   ]
  },
  {
   "cell_type": "code",
   "execution_count": 126,
   "metadata": {},
   "outputs": [
    {
     "data": {
      "text/plain": [
       "array([-0.02050484, -0.01932853,  0.01460154, -0.07235207,  0.02850647,\n",
       "        0.04133518, -0.01975831, -0.02381215])"
      ]
     },
     "execution_count": 126,
     "metadata": {},
     "output_type": "execute_result"
    }
   ],
   "source": [
    "# 회귀 계수\n",
    "model1.coef_"
   ]
  },
  {
   "cell_type": "code",
   "execution_count": 127,
   "metadata": {},
   "outputs": [
    {
     "data": {
      "text/plain": [
       "0.06473942497011088"
      ]
     },
     "execution_count": 127,
     "metadata": {},
     "output_type": "execute_result"
    }
   ],
   "source": [
    "# 회귀 절편\n",
    "model1.intercept_"
   ]
  },
  {
   "cell_type": "markdown",
   "metadata": {},
   "source": [
    "## 4. 모델 성능 확인"
   ]
  },
  {
   "cell_type": "code",
   "execution_count": 128,
   "metadata": {},
   "outputs": [],
   "source": [
    "# 검증 데이터 예측\n",
    "y_predict = model1.predict(X_test)"
   ]
  },
  {
   "cell_type": "code",
   "execution_count": 129,
   "metadata": {},
   "outputs": [
    {
     "data": {
      "text/html": [
       "<div>\n",
       "<style scoped>\n",
       "    .dataframe tbody tr th:only-of-type {\n",
       "        vertical-align: middle;\n",
       "    }\n",
       "\n",
       "    .dataframe tbody tr th {\n",
       "        vertical-align: top;\n",
       "    }\n",
       "\n",
       "    .dataframe thead th {\n",
       "        text-align: right;\n",
       "    }\n",
       "</style>\n",
       "<table border=\"1\" class=\"dataframe\">\n",
       "  <thead>\n",
       "    <tr style=\"text-align: right;\">\n",
       "      <th></th>\n",
       "      <th>y_test</th>\n",
       "      <th>y_predict</th>\n",
       "    </tr>\n",
       "  </thead>\n",
       "  <tbody>\n",
       "    <tr>\n",
       "      <th>27091</th>\n",
       "      <td>0.086879</td>\n",
       "      <td>0.066173</td>\n",
       "    </tr>\n",
       "    <tr>\n",
       "      <th>128</th>\n",
       "      <td>0.000000</td>\n",
       "      <td>0.064190</td>\n",
       "    </tr>\n",
       "    <tr>\n",
       "      <th>17511</th>\n",
       "      <td>0.027926</td>\n",
       "      <td>0.069875</td>\n",
       "    </tr>\n",
       "    <tr>\n",
       "      <th>14891</th>\n",
       "      <td>0.000000</td>\n",
       "      <td>0.065050</td>\n",
       "    </tr>\n",
       "    <tr>\n",
       "      <th>20777</th>\n",
       "      <td>0.021605</td>\n",
       "      <td>0.067578</td>\n",
       "    </tr>\n",
       "    <tr>\n",
       "      <th>...</th>\n",
       "      <td>...</td>\n",
       "      <td>...</td>\n",
       "    </tr>\n",
       "    <tr>\n",
       "      <th>11147</th>\n",
       "      <td>0.019663</td>\n",
       "      <td>0.060243</td>\n",
       "    </tr>\n",
       "    <tr>\n",
       "      <th>6157</th>\n",
       "      <td>0.099756</td>\n",
       "      <td>0.063962</td>\n",
       "    </tr>\n",
       "    <tr>\n",
       "      <th>10685</th>\n",
       "      <td>0.028846</td>\n",
       "      <td>0.060576</td>\n",
       "    </tr>\n",
       "    <tr>\n",
       "      <th>14913</th>\n",
       "      <td>0.039238</td>\n",
       "      <td>0.065679</td>\n",
       "    </tr>\n",
       "    <tr>\n",
       "      <th>3039</th>\n",
       "      <td>0.070707</td>\n",
       "      <td>0.064027</td>\n",
       "    </tr>\n",
       "  </tbody>\n",
       "</table>\n",
       "<p>6583 rows × 2 columns</p>\n",
       "</div>"
      ],
      "text/plain": [
       "         y_test  y_predict\n",
       "27091  0.086879   0.066173\n",
       "128    0.000000   0.064190\n",
       "17511  0.027926   0.069875\n",
       "14891  0.000000   0.065050\n",
       "20777  0.021605   0.067578\n",
       "...         ...        ...\n",
       "11147  0.019663   0.060243\n",
       "6157   0.099756   0.063962\n",
       "10685  0.028846   0.060576\n",
       "14913  0.039238   0.065679\n",
       "3039   0.070707   0.064027\n",
       "\n",
       "[6583 rows x 2 columns]"
      ]
     },
     "execution_count": 129,
     "metadata": {},
     "output_type": "execute_result"
    }
   ],
   "source": [
    "# 실제값 : 예측값 비교\n",
    "y_compare = {'y_test' : y_test, 'y_predict' : y_predict}\n",
    "pd.DataFrame(y_compare)"
   ]
  },
  {
   "cell_type": "code",
   "execution_count": 162,
   "metadata": {},
   "outputs": [
    {
     "data": {
      "text/plain": [
       "Text(0.5, 1.0, 'y_predict & y_test')"
      ]
     },
     "execution_count": 162,
     "metadata": {},
     "output_type": "execute_result"
    },
    {
     "data": {
      "image/png": "[encoded data removed]",
      "text/plain": [
       "<Figure size 720x720 with 1 Axes>"
      ]
     },
     "metadata": {
      "needs_background": "light"
     },
     "output_type": "display_data"
    }
   ],
   "source": [
    "# 실제값 : 예측값 비교\n",
    "\n",
    "plt.figure(figsize = (10,10))\n",
    "sns.scatterplot(x = 'y_predict', y = 'y_test', data = y_compare)\n",
    "plt.xlabel('y_predict')\n",
    "plt.ylabel('y_test')\n",
    "plt.title('y_predict & y_test')"
   ]
  },
  {
   "cell_type": "code",
   "execution_count": 131,
   "metadata": {},
   "outputs": [
    {
     "data": {
      "text/plain": [
       "0.010909940975706633"
      ]
     },
     "execution_count": 131,
     "metadata": {},
     "output_type": "execute_result"
    }
   ],
   "source": [
    "# 훈련 데이터 결정계수(R-Squared)\n",
    "\n",
    "model1.score(X_train, y_train)"
   ]
  },
  {
   "cell_type": "code",
   "execution_count": 132,
   "metadata": {},
   "outputs": [
    {
     "data": {
      "text/plain": [
       "0.01035063496668609"
      ]
     },
     "execution_count": 132,
     "metadata": {},
     "output_type": "execute_result"
    }
   ],
   "source": [
    "# 검증 데이터 결정계수(R-Squared)\n",
    "\n",
    "model1.score(X_test, y_test)"
   ]
  },
  {
   "cell_type": "code",
   "execution_count": 133,
   "metadata": {},
   "outputs": [
    {
     "data": {
      "text/plain": [
       "0.03956183209327263"
      ]
     },
     "execution_count": 133,
     "metadata": {},
     "output_type": "execute_result"
    }
   ],
   "source": [
    "# 훈련 데이터 RMSE\n",
    "y_pred = model1.predict(X_train)\n",
    "math.sqrt(mean_squared_error(y_train, y_pred))"
   ]
  },
  {
   "cell_type": "code",
   "execution_count": 134,
   "metadata": {},
   "outputs": [
    {
     "data": {
      "text/plain": [
       "0.038669618255378145"
      ]
     },
     "execution_count": 134,
     "metadata": {},
     "output_type": "execute_result"
    }
   ],
   "source": [
    "# 검증 데이터 RMSE\n",
    "y_pred = model1.predict(X_test)\n",
    "math.sqrt(mean_squared_error(y_test, y_pred))"
   ]
  },
  {
   "cell_type": "markdown",
   "metadata": {},
   "source": [
    "- 결정계수는 0.01 수준으로 상당히 낮음    \n",
    "- 모델의 예측력이 상당히 낮음  \n",
    "- 추가 조치가 필요함 --> 다중공선성?"
   ]
  },
  {
   "cell_type": "markdown",
   "metadata": {},
   "source": [
    "## 5. 다중공선성 제거"
   ]
  },
  {
   "cell_type": "code",
   "execution_count": 163,
   "metadata": {},
   "outputs": [
    {
     "data": {
      "text/plain": [
       "<matplotlib.axes._subplots.AxesSubplot at 0x20a74958348>"
      ]
     },
     "execution_count": 163,
     "metadata": {},
     "output_type": "execute_result"
    },
    {
     "data": {
      "image/png": "[encoded data removed]",
      "text/plain": [
       "<Figure size 720x720 with 2 Axes>"
      ]
     },
     "metadata": {
      "needs_background": "light"
     },
     "output_type": "display_data"
    }
   ],
   "source": [
    "# 변수간 상관관계 히트맵\n",
    "\n",
    "plt.rc('font', family='Batang')\n",
    "plt.figure(figsize = (10,10))\n",
    "sns.heatmap(df_lm_n.corr(), annot = True, cmap = 'Reds')"
   ]
  },
  {
   "cell_type": "markdown",
   "metadata": {},
   "source": [
    "- 변수간 상관관계가 높은 경우 존재  \n",
    "- 상관관계가 높은 변수들을 제거하여 모델의 성능을 높임"
   ]
  },
  {
   "cell_type": "code",
   "execution_count": 136,
   "metadata": {},
   "outputs": [],
   "source": [
    "# VIF(분산 팽창 요인) 계산\n",
    "\n",
    "from statsmodels.stats.outliers_influence import variance_inflation_factor\n",
    "\n",
    "vif = pd.DataFrame()\n",
    "vif[\"VIF Factor\"] = [variance_inflation_factor(df_lm_n.values, i) for i in range(df_lm_n.shape[1])]\n",
    "vif[\"features\"] = df_lm_n.columns"
   ]
  },
  {
   "cell_type": "code",
   "execution_count": 137,
   "metadata": {},
   "outputs": [
    {
     "data": {
      "text/html": [
       "<div>\n",
       "<style scoped>\n",
       "    .dataframe tbody tr th:only-of-type {\n",
       "        vertical-align: middle;\n",
       "    }\n",
       "\n",
       "    .dataframe tbody tr th {\n",
       "        vertical-align: top;\n",
       "    }\n",
       "\n",
       "    .dataframe thead th {\n",
       "        text-align: right;\n",
       "    }\n",
       "</style>\n",
       "<table border=\"1\" class=\"dataframe\">\n",
       "  <thead>\n",
       "    <tr style=\"text-align: right;\">\n",
       "      <th></th>\n",
       "      <th>VIF Factor</th>\n",
       "      <th>features</th>\n",
       "    </tr>\n",
       "  </thead>\n",
       "  <tbody>\n",
       "    <tr>\n",
       "      <th>0</th>\n",
       "      <td>3.072699</td>\n",
       "      <td>총_유동인구_수</td>\n",
       "    </tr>\n",
       "    <tr>\n",
       "      <th>1</th>\n",
       "      <td>2.952308</td>\n",
       "      <td>아파트_단지_수</td>\n",
       "    </tr>\n",
       "    <tr>\n",
       "      <th>2</th>\n",
       "      <td>13.255360</td>\n",
       "      <td>아파트_평균_면적</td>\n",
       "    </tr>\n",
       "    <tr>\n",
       "      <th>3</th>\n",
       "      <td>7.977302</td>\n",
       "      <td>아파트_평균_시가</td>\n",
       "    </tr>\n",
       "    <tr>\n",
       "      <th>4</th>\n",
       "      <td>4.971384</td>\n",
       "      <td>총 상주인구 수</td>\n",
       "    </tr>\n",
       "    <tr>\n",
       "      <th>5</th>\n",
       "      <td>3.961367</td>\n",
       "      <td>집객시설_수</td>\n",
       "    </tr>\n",
       "    <tr>\n",
       "      <th>6</th>\n",
       "      <td>2.638335</td>\n",
       "      <td>당월_매출_금액</td>\n",
       "    </tr>\n",
       "    <tr>\n",
       "      <th>7</th>\n",
       "      <td>1.717876</td>\n",
       "      <td>총_직장_인구_수</td>\n",
       "    </tr>\n",
       "    <tr>\n",
       "      <th>8</th>\n",
       "      <td>3.148338</td>\n",
       "      <td>폐업률</td>\n",
       "    </tr>\n",
       "  </tbody>\n",
       "</table>\n",
       "</div>"
      ],
      "text/plain": [
       "   VIF Factor   features\n",
       "0    3.072699   총_유동인구_수\n",
       "1    2.952308   아파트_단지_수\n",
       "2   13.255360  아파트_평균_면적\n",
       "3    7.977302  아파트_평균_시가\n",
       "4    4.971384   총 상주인구 수\n",
       "5    3.961367     집객시설_수\n",
       "6    2.638335   당월_매출_금액\n",
       "7    1.717876  총_직장_인구_수\n",
       "8    3.148338        폐업률"
      ]
     },
     "execution_count": 137,
     "metadata": {},
     "output_type": "execute_result"
    }
   ],
   "source": [
    "vif"
   ]
  },
  {
   "cell_type": "markdown",
   "metadata": {},
   "source": [
    "- VIF Factor가 10 이상 >> 위험\n",
    "- VIF Factor가 5 이상 >> 주의\n",
    "- '아파트 평균 면적' column 제거 후 다시 계산"
   ]
  },
  {
   "cell_type": "code",
   "execution_count": 138,
   "metadata": {},
   "outputs": [],
   "source": [
    "data = df_lm_n.drop(['아파트_평균_면적'], axis = 1)\n",
    "\n",
    "vif = pd.DataFrame()\n",
    "vif[\"VIF Factor\"] = [variance_inflation_factor(data.values, i) for i in range(data.shape[1])]\n",
    "vif[\"features\"] = data.columns"
   ]
  },
  {
   "cell_type": "code",
   "execution_count": 139,
   "metadata": {},
   "outputs": [
    {
     "data": {
      "text/html": [
       "<div>\n",
       "<style scoped>\n",
       "    .dataframe tbody tr th:only-of-type {\n",
       "        vertical-align: middle;\n",
       "    }\n",
       "\n",
       "    .dataframe tbody tr th {\n",
       "        vertical-align: top;\n",
       "    }\n",
       "\n",
       "    .dataframe thead th {\n",
       "        text-align: right;\n",
       "    }\n",
       "</style>\n",
       "<table border=\"1\" class=\"dataframe\">\n",
       "  <thead>\n",
       "    <tr style=\"text-align: right;\">\n",
       "      <th></th>\n",
       "      <th>VIF Factor</th>\n",
       "      <th>features</th>\n",
       "    </tr>\n",
       "  </thead>\n",
       "  <tbody>\n",
       "    <tr>\n",
       "      <th>0</th>\n",
       "      <td>3.072037</td>\n",
       "      <td>총_유동인구_수</td>\n",
       "    </tr>\n",
       "    <tr>\n",
       "      <th>1</th>\n",
       "      <td>2.951636</td>\n",
       "      <td>아파트_단지_수</td>\n",
       "    </tr>\n",
       "    <tr>\n",
       "      <th>2</th>\n",
       "      <td>2.191704</td>\n",
       "      <td>아파트_평균_시가</td>\n",
       "    </tr>\n",
       "    <tr>\n",
       "      <th>3</th>\n",
       "      <td>4.531454</td>\n",
       "      <td>총 상주인구 수</td>\n",
       "    </tr>\n",
       "    <tr>\n",
       "      <th>4</th>\n",
       "      <td>3.959651</td>\n",
       "      <td>집객시설_수</td>\n",
       "    </tr>\n",
       "    <tr>\n",
       "      <th>5</th>\n",
       "      <td>2.637966</td>\n",
       "      <td>당월_매출_금액</td>\n",
       "    </tr>\n",
       "    <tr>\n",
       "      <th>6</th>\n",
       "      <td>1.717874</td>\n",
       "      <td>총_직장_인구_수</td>\n",
       "    </tr>\n",
       "    <tr>\n",
       "      <th>7</th>\n",
       "      <td>2.548291</td>\n",
       "      <td>폐업률</td>\n",
       "    </tr>\n",
       "  </tbody>\n",
       "</table>\n",
       "</div>"
      ],
      "text/plain": [
       "   VIF Factor   features\n",
       "0    3.072037   총_유동인구_수\n",
       "1    2.951636   아파트_단지_수\n",
       "2    2.191704  아파트_평균_시가\n",
       "3    4.531454   총 상주인구 수\n",
       "4    3.959651     집객시설_수\n",
       "5    2.637966   당월_매출_금액\n",
       "6    1.717874  총_직장_인구_수\n",
       "7    2.548291        폐업률"
      ]
     },
     "execution_count": 139,
     "metadata": {},
     "output_type": "execute_result"
    }
   ],
   "source": [
    "vif"
   ]
  },
  {
   "cell_type": "markdown",
   "metadata": {},
   "source": [
    "## 6. model2"
   ]
  },
  {
   "cell_type": "markdown",
   "metadata": {},
   "source": [
    "- 다중공선성을 일으켰던 '아파트 평균 면적' column 제거"
   ]
  },
  {
   "cell_type": "code",
   "execution_count": 149,
   "metadata": {},
   "outputs": [],
   "source": [
    "df_lm_n_2 = df_lm_n.drop('아파트_평균_면적', axis = 1)\n",
    "\n",
    "# 데이터 분할\n",
    "X = df_lm_n_2.drop('폐업률', axis = 1)\n",
    "y = df_lm_n_2['폐업률']\n",
    "X_train_2, X_test_2, y_train_2, y_test_2 = train_test_split(X, y, test_size = 0.2, random_state = 20)\n",
    "\n",
    "# 모델 학습\n",
    "model2 = LinearRegression()\n",
    "model2 = model2.fit(X_train_2, y_train_2)"
   ]
  },
  {
   "cell_type": "code",
   "execution_count": 150,
   "metadata": {},
   "outputs": [
    {
     "data": {
      "text/plain": [
       "array([-0.02244427, -0.01945775, -0.05829047,  0.02880265,  0.04128188,\n",
       "       -0.01905743, -0.02339943])"
      ]
     },
     "execution_count": 150,
     "metadata": {},
     "output_type": "execute_result"
    }
   ],
   "source": [
    "# 회귀 계수\n",
    "\n",
    "model2.coef_"
   ]
  },
  {
   "cell_type": "code",
   "execution_count": 151,
   "metadata": {},
   "outputs": [
    {
     "data": {
      "text/plain": [
       "0.0666403856000959"
      ]
     },
     "execution_count": 151,
     "metadata": {},
     "output_type": "execute_result"
    }
   ],
   "source": [
    "# 회귀식 절편\n",
    "\n",
    "model2.intercept_"
   ]
  },
  {
   "cell_type": "markdown",
   "metadata": {},
   "source": [
    "## 7. model2 성능 확인"
   ]
  },
  {
   "cell_type": "code",
   "execution_count": 152,
   "metadata": {},
   "outputs": [],
   "source": [
    "# 검증 데이터 예측\n",
    "\n",
    "y_predict = model2.predict(X_test_2)"
   ]
  },
  {
   "cell_type": "code",
   "execution_count": 153,
   "metadata": {},
   "outputs": [
    {
     "data": {
      "text/html": [
       "<div>\n",
       "<style scoped>\n",
       "    .dataframe tbody tr th:only-of-type {\n",
       "        vertical-align: middle;\n",
       "    }\n",
       "\n",
       "    .dataframe tbody tr th {\n",
       "        vertical-align: top;\n",
       "    }\n",
       "\n",
       "    .dataframe thead th {\n",
       "        text-align: right;\n",
       "    }\n",
       "</style>\n",
       "<table border=\"1\" class=\"dataframe\">\n",
       "  <thead>\n",
       "    <tr style=\"text-align: right;\">\n",
       "      <th></th>\n",
       "      <th>y_test</th>\n",
       "      <th>y_predict</th>\n",
       "    </tr>\n",
       "  </thead>\n",
       "  <tbody>\n",
       "    <tr>\n",
       "      <th>27091</th>\n",
       "      <td>0.086879</td>\n",
       "      <td>0.066614</td>\n",
       "    </tr>\n",
       "    <tr>\n",
       "      <th>128</th>\n",
       "      <td>0.000000</td>\n",
       "      <td>0.063933</td>\n",
       "    </tr>\n",
       "    <tr>\n",
       "      <th>17511</th>\n",
       "      <td>0.027926</td>\n",
       "      <td>0.069399</td>\n",
       "    </tr>\n",
       "    <tr>\n",
       "      <th>14891</th>\n",
       "      <td>0.000000</td>\n",
       "      <td>0.065572</td>\n",
       "    </tr>\n",
       "    <tr>\n",
       "      <th>20777</th>\n",
       "      <td>0.021605</td>\n",
       "      <td>0.068064</td>\n",
       "    </tr>\n",
       "    <tr>\n",
       "      <th>...</th>\n",
       "      <td>...</td>\n",
       "      <td>...</td>\n",
       "    </tr>\n",
       "    <tr>\n",
       "      <th>11147</th>\n",
       "      <td>0.019663</td>\n",
       "      <td>0.061111</td>\n",
       "    </tr>\n",
       "    <tr>\n",
       "      <th>6157</th>\n",
       "      <td>0.099756</td>\n",
       "      <td>0.063947</td>\n",
       "    </tr>\n",
       "    <tr>\n",
       "      <th>10685</th>\n",
       "      <td>0.028846</td>\n",
       "      <td>0.060889</td>\n",
       "    </tr>\n",
       "    <tr>\n",
       "      <th>14913</th>\n",
       "      <td>0.039238</td>\n",
       "      <td>0.066673</td>\n",
       "    </tr>\n",
       "    <tr>\n",
       "      <th>3039</th>\n",
       "      <td>0.070707</td>\n",
       "      <td>0.063678</td>\n",
       "    </tr>\n",
       "  </tbody>\n",
       "</table>\n",
       "<p>6583 rows × 2 columns</p>\n",
       "</div>"
      ],
      "text/plain": [
       "         y_test  y_predict\n",
       "27091  0.086879   0.066614\n",
       "128    0.000000   0.063933\n",
       "17511  0.027926   0.069399\n",
       "14891  0.000000   0.065572\n",
       "20777  0.021605   0.068064\n",
       "...         ...        ...\n",
       "11147  0.019663   0.061111\n",
       "6157   0.099756   0.063947\n",
       "10685  0.028846   0.060889\n",
       "14913  0.039238   0.066673\n",
       "3039   0.070707   0.063678\n",
       "\n",
       "[6583 rows x 2 columns]"
      ]
     },
     "execution_count": 153,
     "metadata": {},
     "output_type": "execute_result"
    }
   ],
   "source": [
    "# 실제값 : 예측값 비교\n",
    "y_compare = {'y_test' : y_test_2, 'y_predict' : y_predict}\n",
    "pd.DataFrame(y_compare)"
   ]
  },
  {
   "cell_type": "code",
   "execution_count": 161,
   "metadata": {},
   "outputs": [
    {
     "data": {
      "text/plain": [
       "Text(0.5, 1.0, 'y_predict & y_test')"
      ]
     },
     "execution_count": 161,
     "metadata": {},
     "output_type": "execute_result"
    },
    {
     "data": {
      "image/png": "[encoded data removed]",
      "text/plain": [
       "<Figure size 720x720 with 1 Axes>"
      ]
     },
     "metadata": {
      "needs_background": "light"
     },
     "output_type": "display_data"
    }
   ],
   "source": [
    "# 실제값 : 예측값 비교\n",
    "\n",
    "plt.figure(figsize = (10,10))\n",
    "sns.scatterplot(x = 'y_predict', y = 'y_test', data = y_compare)\n",
    "plt.xlabel('y_predict')\n",
    "plt.ylabel('y_test')\n",
    "plt.title('y_predict & y_test')"
   ]
  },
  {
   "cell_type": "code",
   "execution_count": 155,
   "metadata": {},
   "outputs": [
    {
     "data": {
      "text/plain": [
       "0.010689444920242708"
      ]
     },
     "execution_count": 155,
     "metadata": {},
     "output_type": "execute_result"
    }
   ],
   "source": [
    "# 훈련 데이터 결정계수(R-Squared)\n",
    "\n",
    "model2.score(X_train_2, y_train_2)"
   ]
  },
  {
   "cell_type": "code",
   "execution_count": 157,
   "metadata": {},
   "outputs": [
    {
     "data": {
      "text/plain": [
       "0.010522344059500699"
      ]
     },
     "execution_count": 157,
     "metadata": {},
     "output_type": "execute_result"
    }
   ],
   "source": [
    "# 검증 데이터 결정계수(R-Squared)\n",
    "\n",
    "model2.score(X_test_2, y_test_2)"
   ]
  },
  {
   "cell_type": "code",
   "execution_count": 158,
   "metadata": {},
   "outputs": [
    {
     "data": {
      "text/plain": [
       "0.03956624157132507"
      ]
     },
     "execution_count": 158,
     "metadata": {},
     "output_type": "execute_result"
    }
   ],
   "source": [
    "# 훈련 데이터 RMSE\n",
    "\n",
    "y_pred = model2.predict(X_train_2)\n",
    "math.sqrt(mean_squared_error(y_train_2, y_pred))"
   ]
  },
  {
   "cell_type": "code",
   "execution_count": 159,
   "metadata": {},
   "outputs": [
    {
     "data": {
      "text/plain": [
       "0.038666263424190085"
      ]
     },
     "execution_count": 159,
     "metadata": {},
     "output_type": "execute_result"
    }
   ],
   "source": [
    "# 검증 데이터 RMSE\n",
    "\n",
    "y_pred = model2.predict(X_test_2)\n",
    "math.sqrt(mean_squared_error(y_test_2, y_pred))"
   ]
  },
  {
   "cell_type": "markdown",
   "metadata": {},
   "source": [
    "- 여전히 모델의 결정 계수가 낮음\n",
    "- 여전히 모델의 예측력이 낮음  \n",
    "- 회귀모델의 유의성 및 회귀계수의 유의성 확인이 필요  \n",
    "- 변수선택을 정교하게 할 필요가 존재  \n",
    "- statsmodel을 이용한 선형회귀 분석"
   ]
  }
 ],
 "metadata": {
  "kernelspec": {
   "display_name": "Python 3",
   "language": "python",
   "name": "python3"
  },
  "language_info": {
   "codemirror_mode": {
    "name": "ipython",
    "version": 3
   },
   "file_extension": ".py",
   "mimetype": "text/x-python",
   "name": "python",
   "nbconvert_exporter": "python",
   "pygments_lexer": "ipython3",
   "version": "3.7.6"
  }
 },
 "nbformat": 4,
 "nbformat_minor": 4
}
