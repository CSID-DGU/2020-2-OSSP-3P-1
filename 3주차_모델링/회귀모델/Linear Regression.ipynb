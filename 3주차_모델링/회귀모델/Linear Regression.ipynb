{
 "cells": [
  {
   "cell_type": "code",
   "execution_count": 2,
   "metadata": {},
   "outputs": [],
   "source": [
    "import pandas as pd\n",
    "import seaborn as sns\n",
    "import matplotlib.pyplot as plt\n",
    "#환경 설정\n",
    "plt.rcdefaults()\n",
    "sns.set(rc={'figure.figsize':(10,10)})\n",
    "plt.rcParams[\"font.family\"] = 'Haansoft Dotum'\n",
    "plt.rcParams['axes.unicode_minus'] = False"
   ]
  },
  {
   "cell_type": "code",
   "execution_count": 4,
   "metadata": {},
   "outputs": [
    {
     "data": {
      "text/html": [
       "<div>\n",
       "<style scoped>\n",
       "    .dataframe tbody tr th:only-of-type {\n",
       "        vertical-align: middle;\n",
       "    }\n",
       "\n",
       "    .dataframe tbody tr th {\n",
       "        vertical-align: top;\n",
       "    }\n",
       "\n",
       "    .dataframe thead th {\n",
       "        text-align: right;\n",
       "    }\n",
       "</style>\n",
       "<table border=\"1\" class=\"dataframe\">\n",
       "  <thead>\n",
       "    <tr style=\"text-align: right;\">\n",
       "      <th></th>\n",
       "      <th>Unnamed: 0</th>\n",
       "      <th>기준_년_코드</th>\n",
       "      <th>기준_분기_코드</th>\n",
       "      <th>상권코드_0</th>\n",
       "      <th>상권코드_1</th>\n",
       "      <th>상권코드_2</th>\n",
       "      <th>상권코드_3</th>\n",
       "      <th>상권코드_4</th>\n",
       "      <th>상권코드_5</th>\n",
       "      <th>상권코드_6</th>\n",
       "      <th>...</th>\n",
       "      <th>상권코드_1495</th>\n",
       "      <th>총_유동인구_수</th>\n",
       "      <th>아파트_단지_수</th>\n",
       "      <th>아파트_평균_면적</th>\n",
       "      <th>아파트_평균_시가</th>\n",
       "      <th>총 상주인구 수</th>\n",
       "      <th>집객시설_수</th>\n",
       "      <th>당월_매출_금액</th>\n",
       "      <th>총_직장_인구_수</th>\n",
       "      <th>폐업률</th>\n",
       "    </tr>\n",
       "  </thead>\n",
       "  <tbody>\n",
       "    <tr>\n",
       "      <th>0</th>\n",
       "      <td>0</td>\n",
       "      <td>2020.0</td>\n",
       "      <td>2.0</td>\n",
       "      <td>0.0</td>\n",
       "      <td>0.0</td>\n",
       "      <td>0.0</td>\n",
       "      <td>0.0</td>\n",
       "      <td>0.0</td>\n",
       "      <td>0.0</td>\n",
       "      <td>0.0</td>\n",
       "      <td>...</td>\n",
       "      <td>1.0</td>\n",
       "      <td>90544.0</td>\n",
       "      <td>14.48</td>\n",
       "      <td>82.273333</td>\n",
       "      <td>2.942853e+08</td>\n",
       "      <td>24.0</td>\n",
       "      <td>52.0</td>\n",
       "      <td>1.671959e+11</td>\n",
       "      <td>15904.0</td>\n",
       "      <td>2.587177</td>\n",
       "    </tr>\n",
       "    <tr>\n",
       "      <th>1</th>\n",
       "      <td>1</td>\n",
       "      <td>2020.0</td>\n",
       "      <td>2.0</td>\n",
       "      <td>0.0</td>\n",
       "      <td>0.0</td>\n",
       "      <td>0.0</td>\n",
       "      <td>0.0</td>\n",
       "      <td>0.0</td>\n",
       "      <td>0.0</td>\n",
       "      <td>0.0</td>\n",
       "      <td>...</td>\n",
       "      <td>0.0</td>\n",
       "      <td>3026454.0</td>\n",
       "      <td>22.00</td>\n",
       "      <td>89.000000</td>\n",
       "      <td>5.273471e+08</td>\n",
       "      <td>8221.0</td>\n",
       "      <td>242.0</td>\n",
       "      <td>1.546181e+11</td>\n",
       "      <td>24375.0</td>\n",
       "      <td>3.026257</td>\n",
       "    </tr>\n",
       "    <tr>\n",
       "      <th>2</th>\n",
       "      <td>2</td>\n",
       "      <td>2020.0</td>\n",
       "      <td>2.0</td>\n",
       "      <td>0.0</td>\n",
       "      <td>0.0</td>\n",
       "      <td>0.0</td>\n",
       "      <td>0.0</td>\n",
       "      <td>0.0</td>\n",
       "      <td>0.0</td>\n",
       "      <td>0.0</td>\n",
       "      <td>...</td>\n",
       "      <td>0.0</td>\n",
       "      <td>4033679.0</td>\n",
       "      <td>5.00</td>\n",
       "      <td>39.000000</td>\n",
       "      <td>1.120979e+08</td>\n",
       "      <td>1924.0</td>\n",
       "      <td>327.0</td>\n",
       "      <td>2.592398e+11</td>\n",
       "      <td>32935.0</td>\n",
       "      <td>2.081362</td>\n",
       "    </tr>\n",
       "    <tr>\n",
       "      <th>3</th>\n",
       "      <td>3</td>\n",
       "      <td>2020.0</td>\n",
       "      <td>2.0</td>\n",
       "      <td>0.0</td>\n",
       "      <td>0.0</td>\n",
       "      <td>0.0</td>\n",
       "      <td>0.0</td>\n",
       "      <td>0.0</td>\n",
       "      <td>0.0</td>\n",
       "      <td>0.0</td>\n",
       "      <td>...</td>\n",
       "      <td>0.0</td>\n",
       "      <td>3262023.0</td>\n",
       "      <td>8.00</td>\n",
       "      <td>53.000000</td>\n",
       "      <td>2.379674e+08</td>\n",
       "      <td>2427.0</td>\n",
       "      <td>165.0</td>\n",
       "      <td>2.466393e+11</td>\n",
       "      <td>6054.0</td>\n",
       "      <td>2.107308</td>\n",
       "    </tr>\n",
       "    <tr>\n",
       "      <th>4</th>\n",
       "      <td>4</td>\n",
       "      <td>2020.0</td>\n",
       "      <td>2.0</td>\n",
       "      <td>0.0</td>\n",
       "      <td>0.0</td>\n",
       "      <td>0.0</td>\n",
       "      <td>0.0</td>\n",
       "      <td>0.0</td>\n",
       "      <td>0.0</td>\n",
       "      <td>0.0</td>\n",
       "      <td>...</td>\n",
       "      <td>0.0</td>\n",
       "      <td>3764785.0</td>\n",
       "      <td>14.48</td>\n",
       "      <td>82.273333</td>\n",
       "      <td>2.942853e+08</td>\n",
       "      <td>1104.0</td>\n",
       "      <td>593.0</td>\n",
       "      <td>3.766214e+11</td>\n",
       "      <td>104830.0</td>\n",
       "      <td>2.163080</td>\n",
       "    </tr>\n",
       "  </tbody>\n",
       "</table>\n",
       "<p>5 rows × 1508 columns</p>\n",
       "</div>"
      ],
      "text/plain": [
       "   Unnamed: 0  기준_년_코드  기준_분기_코드  상권코드_0  상권코드_1  상권코드_2  상권코드_3  상권코드_4  \\\n",
       "0           0   2020.0       2.0     0.0     0.0     0.0     0.0     0.0   \n",
       "1           1   2020.0       2.0     0.0     0.0     0.0     0.0     0.0   \n",
       "2           2   2020.0       2.0     0.0     0.0     0.0     0.0     0.0   \n",
       "3           3   2020.0       2.0     0.0     0.0     0.0     0.0     0.0   \n",
       "4           4   2020.0       2.0     0.0     0.0     0.0     0.0     0.0   \n",
       "\n",
       "   상권코드_5  상권코드_6  ...  상권코드_1495   총_유동인구_수  아파트_단지_수  아파트_평균_면적  \\\n",
       "0     0.0     0.0  ...        1.0    90544.0     14.48  82.273333   \n",
       "1     0.0     0.0  ...        0.0  3026454.0     22.00  89.000000   \n",
       "2     0.0     0.0  ...        0.0  4033679.0      5.00  39.000000   \n",
       "3     0.0     0.0  ...        0.0  3262023.0      8.00  53.000000   \n",
       "4     0.0     0.0  ...        0.0  3764785.0     14.48  82.273333   \n",
       "\n",
       "      아파트_평균_시가  총 상주인구 수  집객시설_수      당월_매출_금액  총_직장_인구_수       폐업률  \n",
       "0  2.942853e+08      24.0    52.0  1.671959e+11    15904.0  2.587177  \n",
       "1  5.273471e+08    8221.0   242.0  1.546181e+11    24375.0  3.026257  \n",
       "2  1.120979e+08    1924.0   327.0  2.592398e+11    32935.0  2.081362  \n",
       "3  2.379674e+08    2427.0   165.0  2.466393e+11     6054.0  2.107308  \n",
       "4  2.942853e+08    1104.0   593.0  3.766214e+11   104830.0  2.163080  \n",
       "\n",
       "[5 rows x 1508 columns]"
      ]
     },
     "execution_count": 4,
     "metadata": {},
     "output_type": "execute_result"
    }
   ],
   "source": [
    "df.head()"
   ]
  },
  {
   "cell_type": "code",
   "execution_count": 8,
   "metadata": {},
   "outputs": [],
   "source": [
    "from sklearn.linear_model import LinearRegression\n",
    "from sklearn.model_selection import train_test_split"
   ]
  },
  {
   "cell_type": "code",
   "execution_count": 9,
   "metadata": {},
   "outputs": [],
   "source": [
    "y = df['폐업률']\n",
    "X = df[['총_유동인구_수', '아파트_단지_수', '아파트_평균_면적', '아파트_평균_시가', '총 상주인구 수', '집객시설_수', '당월_매출_금액',\n",
    "       '총_직장_인구_수']]"
   ]
  },
  {
   "cell_type": "code",
   "execution_count": 10,
   "metadata": {},
   "outputs": [],
   "source": [
    "X_train, X_test, y_train, y_test = train_test_split(X, y, test_size = 0.2)"
   ]
  },
  {
   "cell_type": "code",
   "execution_count": 11,
   "metadata": {},
   "outputs": [
    {
     "data": {
      "text/plain": [
       "LinearRegression(copy_X=True, fit_intercept=True, n_jobs=None, normalize=False)"
      ]
     },
     "execution_count": 11,
     "metadata": {},
     "output_type": "execute_result"
    }
   ],
   "source": [
    "model = LinearRegression()\n",
    "\n",
    "model.fit(X_train, y_train)"
   ]
  },
  {
   "cell_type": "code",
   "execution_count": 12,
   "metadata": {},
   "outputs": [],
   "source": [
    "y_predict = model.predict(X_test)"
   ]
  },
  {
   "cell_type": "code",
   "execution_count": 13,
   "metadata": {},
   "outputs": [
    {
     "data": {
      "text/plain": [
       "<matplotlib.axes._subplots.AxesSubplot at 0x245846fb388>"
      ]
     },
     "execution_count": 13,
     "metadata": {},
     "output_type": "execute_result"
    },
    {
     "data": {
      "image/png": "[encoded data removed]",
      "text/plain": [
       "<Figure size 1000x1000 with 1 Axes>"
      ]
     },
     "metadata": {},
     "output_type": "display_data"
    }
   ],
   "source": [
    "sns.scatterplot(y_test, y_predict)"
   ]
  },
  {
   "cell_type": "code",
   "execution_count": 14,
   "metadata": {},
   "outputs": [
    {
     "data": {
      "text/plain": [
       "3.6904568825688613"
      ]
     },
     "execution_count": 14,
     "metadata": {},
     "output_type": "execute_result"
    }
   ],
   "source": [
    "model.intercept_"
   ]
  },
  {
   "cell_type": "code",
   "execution_count": 15,
   "metadata": {},
   "outputs": [
    {
     "data": {
      "text/plain": [
       "array([-1.37686871e-07, -2.25966957e-03,  2.63547532e-03, -1.69174490e-09,\n",
       "        1.06038668e-04,  3.85587119e-03, -1.73005657e-12, -7.47287128e-06])"
      ]
     },
     "execution_count": 15,
     "metadata": {},
     "output_type": "execute_result"
    }
   ],
   "source": [
    "model.coef_"
   ]
  },
  {
   "cell_type": "code",
   "execution_count": 16,
   "metadata": {},
   "outputs": [
    {
     "data": {
      "text/plain": [
       "0.011523713467536556"
      ]
     },
     "execution_count": 16,
     "metadata": {},
     "output_type": "execute_result"
    }
   ],
   "source": [
    "model.score(X_train, y_train)"
   ]
  },
  {
   "cell_type": "code",
   "execution_count": 17,
   "metadata": {},
   "outputs": [
    {
     "data": {
      "text/plain": [
       "0.007857362621357944"
      ]
     },
     "execution_count": 17,
     "metadata": {},
     "output_type": "execute_result"
    }
   ],
   "source": [
    "model.score(X_test, y_test)"
   ]
  },
  {
   "cell_type": "code",
   "execution_count": null,
   "metadata": {},
   "outputs": [],
   "source": [
    "from statsmodels.stats.outliers_influence import variance_inflation_factor\n",
    "\n",
    "vif = pd.DataFrame()\n",
    "vif['VIF Factor'] = [variance_inflation_factor(df.values, i) for i in range(df.shape[1])]\n",
    "vif['features'] = df.columns\n",
    "vif"
   ]
  },
  {
   "cell_type": "code",
   "execution_count": 27,
   "metadata": {},
   "outputs": [
    {
     "data": {
      "text/plain": [
       "5.30693843250067"
      ]
     },
     "execution_count": 27,
     "metadata": {},
     "output_type": "execute_result"
    }
   ],
   "source": [
    "from sklearn.metrics import mean_squared_error\n",
    "MSE = mean_squared_error(y_true = y_test, y_pred = y_predict)\n",
    "MSE"
   ]
  },
  {
   "cell_type": "code",
   "execution_count": 18,
   "metadata": {},
   "outputs": [],
   "source": [
    "import statsmodels.api as sm"
   ]
  },
  {
   "cell_type": "code",
   "execution_count": 19,
   "metadata": {},
   "outputs": [],
   "source": [
    "model2 = sm.OLS(y_train, X_train)"
   ]
  },
  {
   "cell_type": "code",
   "execution_count": 20,
   "metadata": {},
   "outputs": [],
   "source": [
    "model3 = model2.fit()"
   ]
  },
  {
   "cell_type": "code",
   "execution_count": 21,
   "metadata": {},
   "outputs": [
    {
     "data": {
      "text/plain": [
       "(26329, 8)"
      ]
     },
     "execution_count": 21,
     "metadata": {},
     "output_type": "execute_result"
    }
   ],
   "source": [
    "X_train.shape"
   ]
  },
  {
   "cell_type": "code",
   "execution_count": 22,
   "metadata": {},
   "outputs": [
    {
     "data": {
      "text/plain": [
       "(26329,)"
      ]
     },
     "execution_count": 22,
     "metadata": {},
     "output_type": "execute_result"
    }
   ],
   "source": [
    "y_train.shape"
   ]
  },
  {
   "cell_type": "code",
   "execution_count": 23,
   "metadata": {},
   "outputs": [
    {
     "data": {
      "text/html": [
       "<table class=\"simpletable\">\n",
       "<caption>OLS Regression Results</caption>\n",
       "<tr>\n",
       "  <th>Dep. Variable:</th>           <td>폐업률</td>       <th>  R-squared (uncentered):</th>      <td>   0.684</td> \n",
       "</tr>\n",
       "<tr>\n",
       "  <th>Model:</th>                   <td>OLS</td>       <th>  Adj. R-squared (uncentered):</th> <td>   0.684</td> \n",
       "</tr>\n",
       "<tr>\n",
       "  <th>Method:</th>             <td>Least Squares</td>  <th>  F-statistic:       </th>          <td>   7115.</td> \n",
       "</tr>\n",
       "<tr>\n",
       "  <th>Date:</th>             <td>Fri, 20 Nov 2020</td> <th>  Prob (F-statistic):</th>           <td>  0.00</td>  \n",
       "</tr>\n",
       "<tr>\n",
       "  <th>Time:</th>                 <td>23:52:47</td>     <th>  Log-Likelihood:    </th>          <td> -60575.</td> \n",
       "</tr>\n",
       "<tr>\n",
       "  <th>No. Observations:</th>      <td> 26329</td>      <th>  AIC:               </th>          <td>1.212e+05</td>\n",
       "</tr>\n",
       "<tr>\n",
       "  <th>Df Residuals:</th>          <td> 26321</td>      <th>  BIC:               </th>          <td>1.212e+05</td>\n",
       "</tr>\n",
       "<tr>\n",
       "  <th>Df Model:</th>              <td>     8</td>      <th>                     </th>              <td> </td>    \n",
       "</tr>\n",
       "<tr>\n",
       "  <th>Covariance Type:</th>      <td>nonrobust</td>    <th>                     </th>              <td> </td>    \n",
       "</tr>\n",
       "</table>\n",
       "<table class=\"simpletable\">\n",
       "<tr>\n",
       "      <td></td>         <th>coef</th>     <th>std err</th>      <th>t</th>      <th>P>|t|</th>  <th>[0.025</th>    <th>0.975]</th>  \n",
       "</tr>\n",
       "<tr>\n",
       "  <th>총_유동인구_수</th>  <td>  2.07e-07</td> <td> 4.48e-08</td> <td>    4.622</td> <td> 0.000</td> <td> 1.19e-07</td> <td> 2.95e-07</td>\n",
       "</tr>\n",
       "<tr>\n",
       "  <th>아파트_단지_수</th>  <td>   -0.0012</td> <td>    0.001</td> <td>   -2.105</td> <td> 0.035</td> <td>   -0.002</td> <td>-8.49e-05</td>\n",
       "</tr>\n",
       "<tr>\n",
       "  <th>아파트_평균_면적</th> <td>    0.0626</td> <td>    0.001</td> <td>   78.822</td> <td> 0.000</td> <td>    0.061</td> <td>    0.064</td>\n",
       "</tr>\n",
       "<tr>\n",
       "  <th>아파트_평균_시가</th> <td>-5.112e-09</td> <td> 1.85e-10</td> <td>  -27.608</td> <td> 0.000</td> <td>-5.48e-09</td> <td>-4.75e-09</td>\n",
       "</tr>\n",
       "<tr>\n",
       "  <th>총 상주인구 수</th>  <td>    0.0003</td> <td> 1.32e-05</td> <td>   24.759</td> <td> 0.000</td> <td>    0.000</td> <td>    0.000</td>\n",
       "</tr>\n",
       "<tr>\n",
       "  <th>집객시설_수</th>    <td>    0.0066</td> <td>    0.001</td> <td>    7.151</td> <td> 0.000</td> <td>    0.005</td> <td>    0.008</td>\n",
       "</tr>\n",
       "<tr>\n",
       "  <th>당월_매출_금액</th>  <td>-4.058e-12</td> <td> 6.86e-13</td> <td>   -5.917</td> <td> 0.000</td> <td> -5.4e-12</td> <td>-2.71e-12</td>\n",
       "</tr>\n",
       "<tr>\n",
       "  <th>총_직장_인구_수</th> <td>-1.376e-05</td> <td>  2.6e-06</td> <td>   -5.298</td> <td> 0.000</td> <td>-1.88e-05</td> <td>-8.67e-06</td>\n",
       "</tr>\n",
       "</table>\n",
       "<table class=\"simpletable\">\n",
       "<tr>\n",
       "  <th>Omnibus:</th>       <td>11607.585</td> <th>  Durbin-Watson:     </th>  <td>   1.981</td> \n",
       "</tr>\n",
       "<tr>\n",
       "  <th>Prob(Omnibus):</th>  <td> 0.000</td>   <th>  Jarque-Bera (JB):  </th> <td>193353.291</td>\n",
       "</tr>\n",
       "<tr>\n",
       "  <th>Skew:</th>           <td> 1.692</td>   <th>  Prob(JB):          </th>  <td>    0.00</td> \n",
       "</tr>\n",
       "<tr>\n",
       "  <th>Kurtosis:</th>       <td>15.837</td>   <th>  Cond. No.          </th>  <td>2.20e+09</td> \n",
       "</tr>\n",
       "</table><br/><br/>Warnings:<br/>[1] Standard Errors assume that the covariance matrix of the errors is correctly specified.<br/>[2] The condition number is large, 2.2e+09. This might indicate that there are<br/>strong multicollinearity or other numerical problems."
      ],
      "text/plain": [
       "<class 'statsmodels.iolib.summary.Summary'>\n",
       "\"\"\"\n",
       "                                 OLS Regression Results                                \n",
       "=======================================================================================\n",
       "Dep. Variable:                    폐업률   R-squared (uncentered):                   0.684\n",
       "Model:                            OLS   Adj. R-squared (uncentered):              0.684\n",
       "Method:                 Least Squares   F-statistic:                              7115.\n",
       "Date:                Fri, 20 Nov 2020   Prob (F-statistic):                        0.00\n",
       "Time:                        23:52:47   Log-Likelihood:                         -60575.\n",
       "No. Observations:               26329   AIC:                                  1.212e+05\n",
       "Df Residuals:                   26321   BIC:                                  1.212e+05\n",
       "Df Model:                           8                                                  \n",
       "Covariance Type:            nonrobust                                                  \n",
       "==============================================================================\n",
       "                 coef    std err          t      P>|t|      [0.025      0.975]\n",
       "------------------------------------------------------------------------------\n",
       "총_유동인구_수     2.07e-07   4.48e-08      4.622      0.000    1.19e-07    2.95e-07\n",
       "아파트_단지_수      -0.0012      0.001     -2.105      0.035      -0.002   -8.49e-05\n",
       "아파트_평균_면적      0.0626      0.001     78.822      0.000       0.061       0.064\n",
       "아파트_평균_시가  -5.112e-09   1.85e-10    -27.608      0.000   -5.48e-09   -4.75e-09\n",
       "총 상주인구 수       0.0003   1.32e-05     24.759      0.000       0.000       0.000\n",
       "집객시설_수         0.0066      0.001      7.151      0.000       0.005       0.008\n",
       "당월_매출_금액   -4.058e-12   6.86e-13     -5.917      0.000    -5.4e-12   -2.71e-12\n",
       "총_직장_인구_수  -1.376e-05    2.6e-06     -5.298      0.000   -1.88e-05   -8.67e-06\n",
       "==============================================================================\n",
       "Omnibus:                    11607.585   Durbin-Watson:                   1.981\n",
       "Prob(Omnibus):                  0.000   Jarque-Bera (JB):           193353.291\n",
       "Skew:                           1.692   Prob(JB):                         0.00\n",
       "Kurtosis:                      15.837   Cond. No.                     2.20e+09\n",
       "==============================================================================\n",
       "\n",
       "Warnings:\n",
       "[1] Standard Errors assume that the covariance matrix of the errors is correctly specified.\n",
       "[2] The condition number is large, 2.2e+09. This might indicate that there are\n",
       "strong multicollinearity or other numerical problems.\n",
       "\"\"\""
      ]
     },
     "execution_count": 23,
     "metadata": {},
     "output_type": "execute_result"
    }
   ],
   "source": [
    "model3.summary()"
   ]
  },
  {
   "cell_type": "markdown",
   "metadata": {},
   "source": [
    "- 데이터 정규화(min-max scaling)  \n",
    "- 변수 중요도?  \n",
    "- 모델 평가 방식 조사 (예측 정확도)    "
   ]
  },
  {
   "cell_type": "code",
   "execution_count": 24,
   "metadata": {},
   "outputs": [],
   "source": [
    "X_train_2 = X_train.drop('아파트_평균_면적', axis = 1)"
   ]
  },
  {
   "cell_type": "code",
   "execution_count": 26,
   "metadata": {},
   "outputs": [],
   "source": [
    "model2 = sm.OLS(y_train, X_train_2)"
   ]
  },
  {
   "cell_type": "code",
   "execution_count": 29,
   "metadata": {},
   "outputs": [],
   "source": [
    "model2 = model2.fit()"
   ]
  },
  {
   "cell_type": "code",
   "execution_count": 30,
   "metadata": {},
   "outputs": [
    {
     "data": {
      "text/html": [
       "<table class=\"simpletable\">\n",
       "<caption>OLS Regression Results</caption>\n",
       "<tr>\n",
       "  <th>Dep. Variable:</th>           <td>폐업률</td>       <th>  R-squared (uncentered):</th>      <td>   0.609</td> \n",
       "</tr>\n",
       "<tr>\n",
       "  <th>Model:</th>                   <td>OLS</td>       <th>  Adj. R-squared (uncentered):</th> <td>   0.609</td> \n",
       "</tr>\n",
       "<tr>\n",
       "  <th>Method:</th>             <td>Least Squares</td>  <th>  F-statistic:       </th>          <td>   5860.</td> \n",
       "</tr>\n",
       "<tr>\n",
       "  <th>Date:</th>             <td>Fri, 20 Nov 2020</td> <th>  Prob (F-statistic):</th>           <td>  0.00</td>  \n",
       "</tr>\n",
       "<tr>\n",
       "  <th>Time:</th>                 <td>23:54:23</td>     <th>  Log-Likelihood:    </th>          <td> -63365.</td> \n",
       "</tr>\n",
       "<tr>\n",
       "  <th>No. Observations:</th>      <td> 26329</td>      <th>  AIC:               </th>          <td>1.267e+05</td>\n",
       "</tr>\n",
       "<tr>\n",
       "  <th>Df Residuals:</th>          <td> 26322</td>      <th>  BIC:               </th>          <td>1.268e+05</td>\n",
       "</tr>\n",
       "<tr>\n",
       "  <th>Df Model:</th>              <td>     7</td>      <th>                     </th>              <td> </td>    \n",
       "</tr>\n",
       "<tr>\n",
       "  <th>Covariance Type:</th>      <td>nonrobust</td>    <th>                     </th>              <td> </td>    \n",
       "</tr>\n",
       "</table>\n",
       "<table class=\"simpletable\">\n",
       "<tr>\n",
       "      <td></td>         <th>coef</th>     <th>std err</th>      <th>t</th>      <th>P>|t|</th>  <th>[0.025</th>    <th>0.975]</th>  \n",
       "</tr>\n",
       "<tr>\n",
       "  <th>총_유동인구_수</th>  <td> 1.724e-07</td> <td> 4.98e-08</td> <td>    3.462</td> <td> 0.001</td> <td> 7.48e-08</td> <td>  2.7e-07</td>\n",
       "</tr>\n",
       "<tr>\n",
       "  <th>아파트_단지_수</th>  <td>   -0.0003</td> <td>    0.001</td> <td>   -0.501</td> <td> 0.617</td> <td>   -0.002</td> <td>    0.001</td>\n",
       "</tr>\n",
       "<tr>\n",
       "  <th>아파트_평균_시가</th> <td> 7.673e-09</td> <td> 9.93e-11</td> <td>   77.269</td> <td> 0.000</td> <td> 7.48e-09</td> <td> 7.87e-09</td>\n",
       "</tr>\n",
       "<tr>\n",
       "  <th>총 상주인구 수</th>  <td>    0.0007</td> <td> 1.35e-05</td> <td>   55.469</td> <td> 0.000</td> <td>    0.001</td> <td>    0.001</td>\n",
       "</tr>\n",
       "<tr>\n",
       "  <th>집객시설_수</th>    <td>    0.0113</td> <td>    0.001</td> <td>   10.978</td> <td> 0.000</td> <td>    0.009</td> <td>    0.013</td>\n",
       "</tr>\n",
       "<tr>\n",
       "  <th>당월_매출_금액</th>  <td>-4.798e-12</td> <td> 7.62e-13</td> <td>   -6.293</td> <td> 0.000</td> <td>-6.29e-12</td> <td> -3.3e-12</td>\n",
       "</tr>\n",
       "<tr>\n",
       "  <th>총_직장_인구_수</th> <td>-1.761e-05</td> <td> 2.89e-06</td> <td>   -6.101</td> <td> 0.000</td> <td>-2.33e-05</td> <td> -1.2e-05</td>\n",
       "</tr>\n",
       "</table>\n",
       "<table class=\"simpletable\">\n",
       "<tr>\n",
       "  <th>Omnibus:</th>       <td>9008.695</td> <th>  Durbin-Watson:     </th>  <td>   1.902</td> \n",
       "</tr>\n",
       "<tr>\n",
       "  <th>Prob(Omnibus):</th>  <td> 0.000</td>  <th>  Jarque-Bera (JB):  </th> <td>124820.929</td>\n",
       "</tr>\n",
       "<tr>\n",
       "  <th>Skew:</th>           <td> 1.258</td>  <th>  Prob(JB):          </th>  <td>    0.00</td> \n",
       "</tr>\n",
       "<tr>\n",
       "  <th>Kurtosis:</th>       <td>13.366</td>  <th>  Cond. No.          </th>  <td>2.19e+09</td> \n",
       "</tr>\n",
       "</table><br/><br/>Warnings:<br/>[1] Standard Errors assume that the covariance matrix of the errors is correctly specified.<br/>[2] The condition number is large, 2.19e+09. This might indicate that there are<br/>strong multicollinearity or other numerical problems."
      ],
      "text/plain": [
       "<class 'statsmodels.iolib.summary.Summary'>\n",
       "\"\"\"\n",
       "                                 OLS Regression Results                                \n",
       "=======================================================================================\n",
       "Dep. Variable:                    폐업률   R-squared (uncentered):                   0.609\n",
       "Model:                            OLS   Adj. R-squared (uncentered):              0.609\n",
       "Method:                 Least Squares   F-statistic:                              5860.\n",
       "Date:                Fri, 20 Nov 2020   Prob (F-statistic):                        0.00\n",
       "Time:                        23:54:23   Log-Likelihood:                         -63365.\n",
       "No. Observations:               26329   AIC:                                  1.267e+05\n",
       "Df Residuals:                   26322   BIC:                                  1.268e+05\n",
       "Df Model:                           7                                                  \n",
       "Covariance Type:            nonrobust                                                  \n",
       "==============================================================================\n",
       "                 coef    std err          t      P>|t|      [0.025      0.975]\n",
       "------------------------------------------------------------------------------\n",
       "총_유동인구_수    1.724e-07   4.98e-08      3.462      0.001    7.48e-08     2.7e-07\n",
       "아파트_단지_수      -0.0003      0.001     -0.501      0.617      -0.002       0.001\n",
       "아파트_평균_시가   7.673e-09   9.93e-11     77.269      0.000    7.48e-09    7.87e-09\n",
       "총 상주인구 수       0.0007   1.35e-05     55.469      0.000       0.001       0.001\n",
       "집객시설_수         0.0113      0.001     10.978      0.000       0.009       0.013\n",
       "당월_매출_금액   -4.798e-12   7.62e-13     -6.293      0.000   -6.29e-12    -3.3e-12\n",
       "총_직장_인구_수  -1.761e-05   2.89e-06     -6.101      0.000   -2.33e-05    -1.2e-05\n",
       "==============================================================================\n",
       "Omnibus:                     9008.695   Durbin-Watson:                   1.902\n",
       "Prob(Omnibus):                  0.000   Jarque-Bera (JB):           124820.929\n",
       "Skew:                           1.258   Prob(JB):                         0.00\n",
       "Kurtosis:                      13.366   Cond. No.                     2.19e+09\n",
       "==============================================================================\n",
       "\n",
       "Warnings:\n",
       "[1] Standard Errors assume that the covariance matrix of the errors is correctly specified.\n",
       "[2] The condition number is large, 2.19e+09. This might indicate that there are\n",
       "strong multicollinearity or other numerical problems.\n",
       "\"\"\""
      ]
     },
     "execution_count": 30,
     "metadata": {},
     "output_type": "execute_result"
    }
   ],
   "source": [
    "model2.summary()"
   ]
  },
  {
   "cell_type": "code",
   "execution_count": 32,
   "metadata": {},
   "outputs": [],
   "source": [
    "X_train_2 = X_train.drop(['아파트_평균_면적', '아파트_단지_수'], axis = 1)"
   ]
  },
  {
   "cell_type": "code",
   "execution_count": 33,
   "metadata": {},
   "outputs": [],
   "source": [
    "model2 = sm.OLS(y_train, X_train_2)"
   ]
  },
  {
   "cell_type": "code",
   "execution_count": 34,
   "metadata": {},
   "outputs": [],
   "source": [
    "model2 = model2.fit()"
   ]
  },
  {
   "cell_type": "code",
   "execution_count": 35,
   "metadata": {},
   "outputs": [
    {
     "data": {
      "text/html": [
       "<table class=\"simpletable\">\n",
       "<caption>OLS Regression Results</caption>\n",
       "<tr>\n",
       "  <th>Dep. Variable:</th>           <td>폐업률</td>       <th>  R-squared (uncentered):</th>      <td>   0.609</td> \n",
       "</tr>\n",
       "<tr>\n",
       "  <th>Model:</th>                   <td>OLS</td>       <th>  Adj. R-squared (uncentered):</th> <td>   0.609</td> \n",
       "</tr>\n",
       "<tr>\n",
       "  <th>Method:</th>             <td>Least Squares</td>  <th>  F-statistic:       </th>          <td>   6837.</td> \n",
       "</tr>\n",
       "<tr>\n",
       "  <th>Date:</th>             <td>Fri, 20 Nov 2020</td> <th>  Prob (F-statistic):</th>           <td>  0.00</td>  \n",
       "</tr>\n",
       "<tr>\n",
       "  <th>Time:</th>                 <td>23:55:20</td>     <th>  Log-Likelihood:    </th>          <td> -63365.</td> \n",
       "</tr>\n",
       "<tr>\n",
       "  <th>No. Observations:</th>      <td> 26329</td>      <th>  AIC:               </th>          <td>1.267e+05</td>\n",
       "</tr>\n",
       "<tr>\n",
       "  <th>Df Residuals:</th>          <td> 26323</td>      <th>  BIC:               </th>          <td>1.268e+05</td>\n",
       "</tr>\n",
       "<tr>\n",
       "  <th>Df Model:</th>              <td>     6</td>      <th>                     </th>              <td> </td>    \n",
       "</tr>\n",
       "<tr>\n",
       "  <th>Covariance Type:</th>      <td>nonrobust</td>    <th>                     </th>              <td> </td>    \n",
       "</tr>\n",
       "</table>\n",
       "<table class=\"simpletable\">\n",
       "<tr>\n",
       "      <td></td>         <th>coef</th>     <th>std err</th>      <th>t</th>      <th>P>|t|</th>  <th>[0.025</th>    <th>0.975]</th>  \n",
       "</tr>\n",
       "<tr>\n",
       "  <th>총_유동인구_수</th>  <td> 1.722e-07</td> <td> 4.98e-08</td> <td>    3.459</td> <td> 0.001</td> <td> 7.47e-08</td> <td>  2.7e-07</td>\n",
       "</tr>\n",
       "<tr>\n",
       "  <th>아파트_평균_시가</th> <td> 7.672e-09</td> <td> 9.93e-11</td> <td>   77.276</td> <td> 0.000</td> <td> 7.48e-09</td> <td> 7.87e-09</td>\n",
       "</tr>\n",
       "<tr>\n",
       "  <th>총 상주인구 수</th>  <td>    0.0007</td> <td> 9.48e-06</td> <td>   78.335</td> <td> 0.000</td> <td>    0.001</td> <td>    0.001</td>\n",
       "</tr>\n",
       "<tr>\n",
       "  <th>집객시설_수</th>    <td>    0.0113</td> <td>    0.001</td> <td>   11.017</td> <td> 0.000</td> <td>    0.009</td> <td>    0.013</td>\n",
       "</tr>\n",
       "<tr>\n",
       "  <th>당월_매출_금액</th>  <td>-4.794e-12</td> <td> 7.62e-13</td> <td>   -6.288</td> <td> 0.000</td> <td>-6.29e-12</td> <td> -3.3e-12</td>\n",
       "</tr>\n",
       "<tr>\n",
       "  <th>총_직장_인구_수</th> <td>-1.765e-05</td> <td> 2.88e-06</td> <td>   -6.119</td> <td> 0.000</td> <td>-2.33e-05</td> <td> -1.2e-05</td>\n",
       "</tr>\n",
       "</table>\n",
       "<table class=\"simpletable\">\n",
       "<tr>\n",
       "  <th>Omnibus:</th>       <td>9008.085</td> <th>  Durbin-Watson:     </th>  <td>   1.902</td> \n",
       "</tr>\n",
       "<tr>\n",
       "  <th>Prob(Omnibus):</th>  <td> 0.000</td>  <th>  Jarque-Bera (JB):  </th> <td>124683.593</td>\n",
       "</tr>\n",
       "<tr>\n",
       "  <th>Skew:</th>           <td> 1.258</td>  <th>  Prob(JB):          </th>  <td>    0.00</td> \n",
       "</tr>\n",
       "<tr>\n",
       "  <th>Kurtosis:</th>       <td>13.360</td>  <th>  Cond. No.          </th>  <td>2.18e+09</td> \n",
       "</tr>\n",
       "</table><br/><br/>Warnings:<br/>[1] Standard Errors assume that the covariance matrix of the errors is correctly specified.<br/>[2] The condition number is large, 2.18e+09. This might indicate that there are<br/>strong multicollinearity or other numerical problems."
      ],
      "text/plain": [
       "<class 'statsmodels.iolib.summary.Summary'>\n",
       "\"\"\"\n",
       "                                 OLS Regression Results                                \n",
       "=======================================================================================\n",
       "Dep. Variable:                    폐업률   R-squared (uncentered):                   0.609\n",
       "Model:                            OLS   Adj. R-squared (uncentered):              0.609\n",
       "Method:                 Least Squares   F-statistic:                              6837.\n",
       "Date:                Fri, 20 Nov 2020   Prob (F-statistic):                        0.00\n",
       "Time:                        23:55:20   Log-Likelihood:                         -63365.\n",
       "No. Observations:               26329   AIC:                                  1.267e+05\n",
       "Df Residuals:                   26323   BIC:                                  1.268e+05\n",
       "Df Model:                           6                                                  \n",
       "Covariance Type:            nonrobust                                                  \n",
       "==============================================================================\n",
       "                 coef    std err          t      P>|t|      [0.025      0.975]\n",
       "------------------------------------------------------------------------------\n",
       "총_유동인구_수    1.722e-07   4.98e-08      3.459      0.001    7.47e-08     2.7e-07\n",
       "아파트_평균_시가   7.672e-09   9.93e-11     77.276      0.000    7.48e-09    7.87e-09\n",
       "총 상주인구 수       0.0007   9.48e-06     78.335      0.000       0.001       0.001\n",
       "집객시설_수         0.0113      0.001     11.017      0.000       0.009       0.013\n",
       "당월_매출_금액   -4.794e-12   7.62e-13     -6.288      0.000   -6.29e-12    -3.3e-12\n",
       "총_직장_인구_수  -1.765e-05   2.88e-06     -6.119      0.000   -2.33e-05    -1.2e-05\n",
       "==============================================================================\n",
       "Omnibus:                     9008.085   Durbin-Watson:                   1.902\n",
       "Prob(Omnibus):                  0.000   Jarque-Bera (JB):           124683.593\n",
       "Skew:                           1.258   Prob(JB):                         0.00\n",
       "Kurtosis:                      13.360   Cond. No.                     2.18e+09\n",
       "==============================================================================\n",
       "\n",
       "Warnings:\n",
       "[1] Standard Errors assume that the covariance matrix of the errors is correctly specified.\n",
       "[2] The condition number is large, 2.18e+09. This might indicate that there are\n",
       "strong multicollinearity or other numerical problems.\n",
       "\"\"\""
      ]
     },
     "execution_count": 35,
     "metadata": {},
     "output_type": "execute_result"
    }
   ],
   "source": [
    "model2.summary()"
   ]
  },
  {
   "cell_type": "code",
   "execution_count": null,
   "metadata": {},
   "outputs": [],
   "source": []
  }
 ],
 "metadata": {
  "kernelspec": {
   "display_name": "Python 3",
   "language": "python",
   "name": "python3"
  },
  "language_info": {
   "codemirror_mode": {
    "name": "ipython",
    "version": 3
   },
   "file_extension": ".py",
   "mimetype": "text/x-python",
   "name": "python",
   "nbconvert_exporter": "python",
   "pygments_lexer": "ipython3",
   "version": "3.7.6"
  }
 },
 "nbformat": 4,
 "nbformat_minor": 4
}
